{
 "metadata": {
  "language_info": {
   "codemirror_mode": {
    "name": "ipython",
    "version": 3
   },
   "file_extension": ".py",
   "mimetype": "text/x-python",
   "name": "python",
   "nbconvert_exporter": "python",
   "pygments_lexer": "ipython3",
   "version": "3.8.5-final"
  },
  "orig_nbformat": 2,
  "kernelspec": {
   "name": "python3",
   "display_name": "Python 3",
   "language": "python"
  }
 },
 "nbformat": 4,
 "nbformat_minor": 2,
 "cells": [
  {
   "cell_type": "code",
   "execution_count": 1,
   "metadata": {},
   "outputs": [],
   "source": [
    "import numpy as np\n",
    "import torch\n",
    "import torch.nn as nn\n",
    "import torch.optim as optim\n",
    "\n",
    "import math"
   ]
  },
  {
   "cell_type": "code",
   "execution_count": 2,
   "metadata": {},
   "outputs": [],
   "source": [
    "## length of the robot arms \n",
    "l_1 = 2\n",
    "l_2 = 2\n",
    "l_3 = 2\n"
   ]
  },
  {
   "cell_type": "code",
   "execution_count": 3,
   "metadata": {},
   "outputs": [],
   "source": [
    "## joint constraints\n",
    "q1_bound = (0, math.pi)\n",
    "q2_bound = (-math.pi, 0)\n",
    "q3_bound = (-math.pi, math.pi)"
   ]
  },
  {
   "cell_type": "code",
   "execution_count": 4,
   "metadata": {},
   "outputs": [],
   "source": [
    "## End effector coordinates in cartesian space\n",
    "## q1, q2, and q3 are joint angles\n",
    "\n",
    "## Forward kinematic model\n",
    "## xe is the end effector x coordinate\n",
    "def x_e(q1, q2, q3):\n",
    "    return l_1 * np.cos(q1) + l_2 * np.cos(q1+q2) + l_3 * np.cos(q1+q2+q3)\n",
    "\n",
    "## xe is the end effector y coordinate\n",
    "def y_e(q1, q2, q3):\n",
    "    return l_1 * np.sin(q1) + l_2 * np.sin(q1+q2) + l_3 * np.sin(q1+q2+q3)\n",
    "\n",
    "## end effector orientation\n",
    "def orn_e(q1, q2, q3):\n",
    "    return q1 + q2 + q3"
   ]
  },
  {
   "cell_type": "code",
   "execution_count": 5,
   "metadata": {},
   "outputs": [],
   "source": [
    "## gerenate random joint angles and their corresponding end effector cartesian positions'\n",
    "def gen_data(dataset_size):\n",
    "    ## sample random q1, q2 and q3 (joint angles)\n",
    "    q1_train = np.random.uniform(low=q1_bound[0], high=q1_bound[1], size=(dataset_size, 1))\n",
    "    q2_train = np.random.uniform(low=q2_bound[0], high=q2_bound[1], size=(dataset_size, 1))\n",
    "    q3_train = np.random.uniform(low=q3_bound[0], high=q3_bound[1], size=(dataset_size, 1))\n",
    "\n",
    "    ## generate random data\n",
    "    xe_train = x_e(q1_train, q2_train, q3_train)\n",
    "    ye_train = y_e(q1_train, q2_train, q3_train)\n",
    "    orn_train = orn_e(q1_train, q2_train, q3_train)\n",
    "\n",
    "    targets = np.concatenate((q1_train, q2_train, q3_train), axis=1) ## targets as joint positions\n",
    "    inputs = np.concatenate((xe_train, ye_train, orn_train), axis=1) ## inputs as end effector cartesian coordinates\n",
    "\n",
    "    return inputs, targets"
   ]
  },
  {
   "cell_type": "code",
   "execution_count": 6,
   "metadata": {},
   "outputs": [],
   "source": [
    "train_inputs, train_targets = gen_data(1000) ## training data for training the neural network\n",
    "test_inputs, test_targets = gen_data(100) ## test data for validating the training performances"
   ]
  },
  {
   "cell_type": "code",
   "execution_count": 7,
   "metadata": {},
   "outputs": [],
   "source": [
    "## Neural network is your IK model\n",
    "model = nn.Sequential(\n",
    "    nn.Linear(3, 100), ## input layer take cartesian coordinates\n",
    "    nn.Linear(100, 3) ## output layer predicts corresponding joint positions\n",
    ")"
   ]
  },
  {
   "cell_type": "code",
   "execution_count": 8,
   "metadata": {},
   "outputs": [],
   "source": [
    "optimizer = optim.SGD(model.parameters(), lr=0.0001)"
   ]
  },
  {
   "cell_type": "code",
   "execution_count": 9,
   "metadata": {},
   "outputs": [],
   "source": [
    "def val_model(net, t_inputs, t_targets):\n",
    "    net.eval() ## set the model to evalution\n",
    "    loss_list = list()\n",
    "    for t_inp, t_tgt in zip(t_inputs, t_targets): ## feed the test data iteratively to the model\n",
    "        t_inp = torch.tensor(t_inp, dtype=torch.float32) ## make the input tensor\n",
    "        t_tgt = torch.tensor(t_tgt) ## make the target tensor\n",
    "        out = net(t_inp) ## call the trained model\n",
    "        loss = nn.MSELoss()(out, t_tgt)\n",
    "        loss_list.append(loss.item())\n",
    "    return np.mean(np.array(loss_list))"
   ]
  },
  {
   "cell_type": "code",
   "execution_count": null,
   "metadata": {},
   "outputs": [],
   "source": [
    "for e in range(1000):\n",
    "    epoch_train_loss = list()\n",
    "    for inp, tgt in zip(train_inputs, train_targets):\n",
    "        inp = torch.tensor(inp, dtype=torch.float32)\n",
    "        tgt = torch.tensor(tgt)\n",
    "        optimizer.zero_grad()\n",
    "        out = model(inp)\n",
    "        loss = nn.MSELoss()(out.double(), tgt)\n",
    "        loss.backward()\n",
    "        optimizer.step()\n",
    "        epoch_train_loss.append(loss.item())\n",
    "\n",
    "    ## validate\n",
    "    with torch.no_grad():\n",
    "        val_error = val_model(model, test_inputs, test_targets)\n",
    "\n",
    "    print(\"Train Error: {}, val Error: {}\".format(np.mean(np.array(epoch_train_loss)), val_error))\n",
    "\n",
    "    "
   ]
  },
  {
   "cell_type": "code",
   "execution_count": null,
   "metadata": {},
   "outputs": [],
   "source": []
  }
 ]
}