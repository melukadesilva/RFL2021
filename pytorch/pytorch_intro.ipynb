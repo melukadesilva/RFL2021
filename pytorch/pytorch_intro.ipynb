{
 "metadata": {
  "language_info": {
   "codemirror_mode": {
    "name": "ipython",
    "version": 3
   },
   "file_extension": ".py",
   "mimetype": "text/x-python",
   "name": "python",
   "nbconvert_exporter": "python",
   "pygments_lexer": "ipython3",
   "version": "3.8.5-final"
  },
  "orig_nbformat": 2,
  "kernelspec": {
   "name": "python3",
   "display_name": "Python 3.8.5 64-bit",
   "metadata": {
    "interpreter": {
     "hash": "1de01a1b2b639b2ab9bc9c9a713ded5cb1ecc68bccd08a4a9bdbc4634151189f"
    }
   }
  }
 },
 "nbformat": 4,
 "nbformat_minor": 2,
 "cells": [
  {
   "cell_type": "code",
   "execution_count": 121,
   "metadata": {},
   "outputs": [],
   "source": [
    "import torch\n",
    "import numpy as np\n",
    "from torch.utils.tensorboard import SummaryWriter"
   ]
  },
  {
   "cell_type": "code",
   "execution_count": 122,
   "metadata": {},
   "outputs": [
    {
     "output_type": "execute_result",
     "data": {
      "text/plain": [
       "tensor([[2.9147e-43, 0.0000e+00],\n",
       "        [6.5160e-43, 0.0000e+00],\n",
       "        [1.0507e+37, 0.0000e+00]])"
      ]
     },
     "metadata": {},
     "execution_count": 122
    }
   ],
   "source": [
    "## A pytorch tensor (random)\n",
    "a = torch.FloatTensor(3, 2)\n",
    "a\n"
   ]
  },
  {
   "cell_type": "code",
   "execution_count": 123,
   "metadata": {},
   "outputs": [
    {
     "output_type": "stream",
     "name": "stdout",
     "text": [
      "tensor([[2.9147e-43, 0.0000e+00],\n        [6.5160e-43, 0.0000e+00],\n        [1.0507e+37, 0.0000e+00]])\ntensor([[0., 0.],\n        [0., 0.],\n        [0., 0.]])\ntensor([[0., 0.],\n        [0., 0.],\n        [0., 0.]])\n"
     ]
    }
   ],
   "source": [
    "## clear content of a tensor (without altering the tensor) (Functional, makes a copy\n",
    "## of the tensor)\n",
    "b = torch.zeros_like(a)\n",
    "print(a)\n",
    "print(b)\n",
    "## clear content of a tensor (alter the tensor)\n",
    "a.zero_()\n",
    "print(a)"
   ]
  },
  {
   "cell_type": "code",
   "execution_count": 124,
   "metadata": {},
   "outputs": [
    {
     "output_type": "execute_result",
     "data": {
      "text/plain": [
       "tensor([1.4638, 1.6417])"
      ]
     },
     "metadata": {},
     "execution_count": 124
    }
   ],
   "source": [
    "a_numpy = np.random.uniform((3,2))\n",
    "a_tensor = torch.tensor(a_numpy, dtype=torch.float32)\n",
    "a_tensor"
   ]
  },
  {
   "cell_type": "code",
   "execution_count": 125,
   "metadata": {},
   "outputs": [
    {
     "output_type": "stream",
     "name": "stdout",
     "text": [
      "tensor(6.)\ntensor(2.)\ntorch.return_types.mode(\nvalues=tensor(1.),\nindices=tensor(0))\ntensor(2.)\n"
     ]
    }
   ],
   "source": [
    "## tensor operations\n",
    "a = torch.tensor([1., 2., 3.])\n",
    "print(a.sum())\n",
    "print(a.mean())\n",
    "print(a.mode())\n",
    "print(a.median())\n",
    "\n"
   ]
  },
  {
   "cell_type": "code",
   "execution_count": 126,
   "metadata": {},
   "outputs": [
    {
     "output_type": "stream",
     "name": "stdout",
     "text": [
      "tensor([1., 2., 3.])\ncpu\ntensor([1., 2., 3.], device='cuda:0')\ncuda:0\n"
     ]
    }
   ],
   "source": [
    "## GPU tensors\n",
    "print(a)\n",
    "print(a.device)\n",
    "print(a.to('cuda'))\n",
    "print(a.to('cuda').device)"
   ]
  },
  {
   "cell_type": "code",
   "execution_count": 127,
   "metadata": {},
   "outputs": [
    {
     "output_type": "stream",
     "name": "stdout",
     "text": [
      "tensor([4.1000, 3.0000], grad_fn=<AddBackward0>)\ntensor(14.2000, grad_fn=<SumBackward0>)\nTrue\nFalse\nFalse\nNone\n"
     ]
    }
   ],
   "source": [
    "## tensor gradients\n",
    "v1 = torch.tensor([1.0, 2.0])\n",
    "v2 = torch.tensor([3.1, 1.0], requires_grad=True)\n",
    "\n",
    "## operate on the tensors\n",
    "v_sum = v1 + v2\n",
    "v_res = (v_sum*2).sum()\n",
    "print(v_sum)\n",
    "print(v_res)\n",
    "\n",
    "## user made tensors are leafs in  a graph\n",
    "## but intermediate operations are not\n",
    "print(v1.is_leaf)\n",
    "print(v_sum.is_leaf)\n",
    "\n",
    "## are gradients required\n",
    "print(v1.requires_grad)\n",
    "print(v2.grad)"
   ]
  },
  {
   "cell_type": "code",
   "execution_count": 128,
   "metadata": {},
   "outputs": [
    {
     "output_type": "execute_result",
     "data": {
      "text/plain": [
       "tensor([-1.4658,  1.8997, -1.2867,  0.4601,  0.4875],\n",
       "       grad_fn=<SqueezeBackward3>)"
      ]
     },
     "metadata": {},
     "execution_count": 128
    }
   ],
   "source": [
    "## NN blocks\n",
    "import torch.nn as nn\n",
    "linear_layer = nn.Linear(3, 5, bias=False)\n",
    "inp = torch.tensor([1, 2, 3], dtype=torch.float)\n",
    "linear_layer(inp)"
   ]
  },
  {
   "cell_type": "code",
   "execution_count": 129,
   "metadata": {},
   "outputs": [
    {
     "output_type": "stream",
     "name": "stdout",
     "text": [
      "Parameter containing:\ntensor([[ 0.0476, -0.2724, -0.3229],\n        [ 0.2363,  0.5315,  0.2001],\n        [ 0.2612, -0.1356, -0.4256],\n        [-0.4980, -0.1145,  0.3957],\n        [ 0.1956,  0.5295, -0.2557]], requires_grad=True)\n"
     ]
    }
   ],
   "source": [
    "## layer parameter\n",
    "for i in linear_layer.parameters():\n",
    "    print(i)"
   ]
  },
  {
   "cell_type": "code",
   "execution_count": 130,
   "metadata": {},
   "outputs": [
    {
     "output_type": "stream",
     "name": "stdout",
     "text": [
      "OrderedDict([('weight', tensor([[ 0.0476, -0.2724, -0.3229],\n        [ 0.2363,  0.5315,  0.2001],\n        [ 0.2612, -0.1356, -0.4256],\n        [-0.4980, -0.1145,  0.3957],\n        [ 0.1956,  0.5295, -0.2557]]))])\n"
     ]
    }
   ],
   "source": [
    "## layer parameter\n",
    "print(linear_layer.state_dict())"
   ]
  },
  {
   "cell_type": "code",
   "execution_count": 131,
   "metadata": {},
   "outputs": [
    {
     "output_type": "execute_result",
     "data": {
      "text/plain": [
       "Sequential(\n",
       "  (0): Linear(in_features=2, out_features=5, bias=True)\n",
       "  (1): ReLU()\n",
       "  (2): Linear(in_features=5, out_features=20, bias=True)\n",
       "  (3): ReLU()\n",
       "  (4): Linear(in_features=20, out_features=10, bias=True)\n",
       "  (5): ReLU()\n",
       "  (6): Dropout(p=0.3, inplace=False)\n",
       "  (7): Softmax(dim=1)\n",
       ")"
      ]
     },
     "metadata": {},
     "execution_count": 131
    }
   ],
   "source": [
    "## A simple ANN model\n",
    "model = nn.Sequential(\n",
    "    nn.Linear(2,5),\n",
    "    nn.ReLU(),\n",
    "    nn.Linear(5,20),\n",
    "    nn.ReLU(),\n",
    "    nn.Linear(20,10),\n",
    "    nn.ReLU(),\n",
    "    nn.Dropout(p=0.3),\n",
    "    nn.Softmax(dim=1)\n",
    ")\n",
    "model"
   ]
  },
  {
   "cell_type": "code",
   "execution_count": 132,
   "metadata": {},
   "outputs": [
    {
     "output_type": "execute_result",
     "data": {
      "text/plain": [
       "tensor([[0.0916, 0.0916, 0.1130, 0.0916, 0.1110, 0.0916, 0.0916, 0.0916, 0.1145,\n",
       "         0.1119]], grad_fn=<SoftmaxBackward>)"
      ]
     },
     "metadata": {},
     "execution_count": 132
    }
   ],
   "source": [
    "model(torch.FloatTensor([[1,2]]))"
   ]
  },
  {
   "cell_type": "code",
   "execution_count": 133,
   "metadata": {},
   "outputs": [],
   "source": [
    "## model construction by subclassing\n",
    "class Model(nn.Module):\n",
    "    def __init__(self, input_shape, output_shape, drop=0.3):\n",
    "        super(Model, self).__init__()\n",
    "        self.model = nn.Sequential(\n",
    "                        nn.Linear(2,5),\n",
    "                        nn.ReLU(),\n",
    "                        nn.Linear(5,20),\n",
    "                        nn.ReLU(),\n",
    "                        nn.Linear(20,1),\n",
    "                        #nn.ReLU(),\n",
    "                        #nn.Dropout(p=0.3),\n",
    "                        #nn.Softmax(dim=1)\n",
    "                        )\n",
    "    ## forward pass of the NN\n",
    "    def forward(self, x):\n",
    "        return self.model(x)\n"
   ]
  },
  {
   "cell_type": "code",
   "execution_count": 134,
   "metadata": {},
   "outputs": [
    {
     "output_type": "stream",
     "name": "stdout",
     "text": [
      "Model(\n  (model): Sequential(\n    (0): Linear(in_features=2, out_features=5, bias=True)\n    (1): ReLU()\n    (2): Linear(in_features=5, out_features=20, bias=True)\n    (3): ReLU()\n    (4): Linear(in_features=20, out_features=1, bias=True)\n  )\n)\ntensor([[0.0050]], grad_fn=<AddmmBackward>)\n"
     ]
    }
   ],
   "source": [
    "## construct the model\n",
    "net = Model(2, 3)\n",
    "inp = torch.FloatTensor([[2, 3]])\n",
    "out = net(inp)\n",
    "print(net)\n",
    "print(out)"
   ]
  },
  {
   "cell_type": "code",
   "execution_count": 135,
   "metadata": {},
   "outputs": [],
   "source": [
    "optimizer = torch.optim.SGD(net.parameters(), lr=0.001)"
   ]
  },
  {
   "cell_type": "code",
   "execution_count": 136,
   "metadata": {},
   "outputs": [],
   "source": [
    "## make some random data\n",
    "inp_batch = torch.normal(0, 1, (1000, 2))\n",
    "inp_batch.size()\n",
    "tgt_batch = torch.normal(0, 1, (1000, 1))"
   ]
  },
  {
   "cell_type": "code",
   "execution_count": 137,
   "metadata": {
    "tags": []
   },
   "outputs": [
    {
     "output_type": "error",
     "ename": "AttributeError",
     "evalue": "'float' object has no attribute 'type'",
     "traceback": [
      "\u001b[0;31m---------------------------------------------------------------------------\u001b[0m",
      "\u001b[0;31mAttributeError\u001b[0m                            Traceback (most recent call last)",
      "\u001b[0;32m<ipython-input-137-06823c9d14ee>\u001b[0m in \u001b[0;36m<module>\u001b[0;34m\u001b[0m\n\u001b[1;32m     12\u001b[0m         \u001b[0moptimizer\u001b[0m\u001b[0;34m.\u001b[0m\u001b[0mstep\u001b[0m\u001b[0;34m(\u001b[0m\u001b[0;34m)\u001b[0m\u001b[0;34m\u001b[0m\u001b[0;34m\u001b[0m\u001b[0m\n\u001b[1;32m     13\u001b[0m         \u001b[0mepoch_loss\u001b[0m\u001b[0;34m.\u001b[0m\u001b[0mappend\u001b[0m\u001b[0;34m(\u001b[0m\u001b[0mloss\u001b[0m\u001b[0;34m.\u001b[0m\u001b[0mitem\u001b[0m\u001b[0;34m(\u001b[0m\u001b[0;34m)\u001b[0m\u001b[0;34m)\u001b[0m\u001b[0;34m\u001b[0m\u001b[0;34m\u001b[0m\u001b[0m\n\u001b[0;32m---> 14\u001b[0;31m         \u001b[0mprint\u001b[0m\u001b[0;34m(\u001b[0m\u001b[0mloss\u001b[0m\u001b[0;34m.\u001b[0m\u001b[0mitem\u001b[0m\u001b[0;34m(\u001b[0m\u001b[0;34m)\u001b[0m\u001b[0;34m.\u001b[0m\u001b[0mtype\u001b[0m\u001b[0;34m(\u001b[0m\u001b[0;34m)\u001b[0m\u001b[0;34m)\u001b[0m\u001b[0;34m\u001b[0m\u001b[0;34m\u001b[0m\u001b[0m\n\u001b[0m\u001b[1;32m     15\u001b[0m         \u001b[0mwriter\u001b[0m\u001b[0;34m.\u001b[0m\u001b[0madd_scalar\u001b[0m\u001b[0;34m(\u001b[0m\u001b[0;34m\"error\"\u001b[0m\u001b[0;34m,\u001b[0m \u001b[0mloss\u001b[0m\u001b[0;34m.\u001b[0m\u001b[0mitem\u001b[0m\u001b[0;34m(\u001b[0m\u001b[0;34m)\u001b[0m\u001b[0;34m)\u001b[0m\u001b[0;34m\u001b[0m\u001b[0;34m\u001b[0m\u001b[0m\n\u001b[1;32m     16\u001b[0m     \u001b[0mprint\u001b[0m\u001b[0;34m(\u001b[0m\u001b[0mnp\u001b[0m\u001b[0;34m.\u001b[0m\u001b[0marray\u001b[0m\u001b[0;34m(\u001b[0m\u001b[0mnp\u001b[0m\u001b[0;34m.\u001b[0m\u001b[0mmean\u001b[0m\u001b[0;34m(\u001b[0m\u001b[0mepoch_loss\u001b[0m\u001b[0;34m)\u001b[0m\u001b[0;34m)\u001b[0m\u001b[0;34m)\u001b[0m\u001b[0;34m\u001b[0m\u001b[0;34m\u001b[0m\u001b[0m\n",
      "\u001b[0;31mAttributeError\u001b[0m: 'float' object has no attribute 'type'"
     ]
    }
   ],
   "source": [
    "writer = SummaryWriter()\n",
    "for e in range(100):\n",
    "    epoch_loss = list()\n",
    "    for i in range(0, inp_batch.shape[0], 10):\n",
    "        inp = inp_batch[i:i+10]\n",
    "        tgt = tgt_batch[i:i+10]\n",
    "        out = net(inp)\n",
    "        #print(out.shape)\n",
    "        optimizer.zero_grad()\n",
    "        loss = nn.MSELoss()(out, tgt)\n",
    "        loss.backward()\n",
    "        optimizer.step()\n",
    "        epoch_loss.append(loss.item())\n",
    "        writer.add_scalar(\"error\", loss.item())\n",
    "    print(np.array(np.mean(epoch_loss)))\n",
    "writer.close()\n",
    "\n",
    "    "
   ]
  }
 ]
}