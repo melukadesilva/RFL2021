{
 "metadata": {
  "language_info": {
   "codemirror_mode": {
    "name": "ipython",
    "version": 3
   },
   "file_extension": ".py",
   "mimetype": "text/x-python",
   "name": "python",
   "nbconvert_exporter": "python",
   "pygments_lexer": "ipython3",
   "version": "3.8.5-final"
  },
  "orig_nbformat": 2,
  "kernelspec": {
   "name": "python3",
   "display_name": "Python 3",
   "language": "python"
  }
 },
 "nbformat": 4,
 "nbformat_minor": 2,
 "cells": [
  {
   "cell_type": "code",
   "execution_count": 1,
   "metadata": {},
   "outputs": [],
   "source": [
    "import gym\n",
    "import torch\n",
    "import torch.nn as nn\n",
    "from torch.distributions import Categorical\n",
    "\n",
    "from itertools import count"
   ]
  },
  {
   "cell_type": "code",
   "execution_count": 2,
   "metadata": {},
   "outputs": [],
   "source": [
    "class PolicyNet(nn.Module):\n",
    "    def __init__(self, input_shape, action_size):\n",
    "        super(PolicyNet, self).__init__()\n",
    "        self.fc_in = nn.Linear(input_shape, 128)\n",
    "        self.drop = nn.Dropout(p=0.6)\n",
    "        self.fc_out = nn.Linear(128, action_size)\n",
    "\n",
    "    def forward(self, x):\n",
    "        x = self.fc_in(x)\n",
    "        x = self.drop(x)\n",
    "        x = torch.relu(x)\n",
    "        x = self.fc_out(x)\n",
    "        return Categorical(torch.softmax(x, dim=1))\n"
   ]
  },
  {
   "cell_type": "code",
   "execution_count": 3,
   "metadata": {},
   "outputs": [],
   "source": [
    "## function that takes a list of rewards and reutrn the list of returns for each step\n",
    "def discounted_returns(rewards, gamma=0.9):\n",
    "    ## Init R\n",
    "    R = 0\n",
    "    returns = list()\n",
    "    for reward in reversed(rewards):\n",
    "        R = reward + gamma * R\n",
    "        #print(R)\n",
    "        returns.insert(0, R)\n",
    "        #returns.append(R)\n",
    "\n",
    "    returns = torch.tensor(returns)\n",
    "    ## normalize the returns\n",
    "    returns = (returns - returns.mean()) / (returns.std() + 1e-6)\n",
    "    return returns\n"
   ]
  },
  {
   "cell_type": "code",
   "execution_count": 4,
   "metadata": {
    "tags": []
   },
   "outputs": [
    {
     "output_type": "error",
     "ename": "IndentationError",
     "evalue": "unindent does not match any outer indentation level (<tokenize>, line 61)",
     "traceback": [
      "\u001b[0;36m  File \u001b[0;32m\"<tokenize>\"\u001b[0;36m, line \u001b[0;32m61\u001b[0m\n\u001b[0;31m    break\u001b[0m\n\u001b[0m    ^\u001b[0m\n\u001b[0;31mIndentationError\u001b[0m\u001b[0;31m:\u001b[0m unindent does not match any outer indentation level\n"
     ]
    }
   ],
   "source": [
    "## test the environment\n",
    "env = gym.make('CartPole-v0')\n",
    "input_shape = env.observation_space.shape[0]\n",
    "action_size = env.action_space.n\n",
    "print(\"Env reward threshold: {}\".format(env.spec.reward_threshold))\n",
    "reward_list = list()\n",
    "\n",
    "## initialize the net\n",
    "net = PolicyNet(input_shape, action_size)\n",
    "## initialize an optimizer\n",
    "optimizer = torch.optim.Adam(net.parameters(), lr=1e-2)\n",
    "\n",
    "running_reward = 10\n",
    "for e in count(1):\n",
    "    action_log_probs = list()\n",
    "    rewards = list()\n",
    "    state = env.reset()\n",
    "    #print(state.shape)\n",
    "    for t in range(100000):\n",
    "    #while True:\n",
    "        env.render()\n",
    "        ## take an action sampled from a categorical distribution given the state\n",
    "        action_prob = net(torch.FloatTensor(state).unsqueeze(0))\n",
    "        action = action_prob.sample()\n",
    "        action_log_probs.append(action_prob.log_prob(action))\n",
    "        #print(action)\n",
    "        next_state, reward, is_done, _ = env.step(action.item()) # take a random action\n",
    "        rewards.append(reward)\n",
    "        \n",
    "        ## current state is next state now\n",
    "        state = next_state\n",
    "\n",
    "        if is_done:\n",
    "            #print(rewards)\n",
    "            break\n",
    "\n",
    "    ## Now we have the discounted reward + log_probs of the actions\n",
    "    returns = discounted_returns(rewards)\n",
    "    action_losses = list()\n",
    "    ## collect the action losses to a list\n",
    "    for ret, l_prob in zip(returns, action_log_probs):\n",
    "        action_losses.append(-l_prob * ret)\n",
    "\n",
    "    optimizer.zero_grad()\n",
    "    ## accumulate the action losses\n",
    "    action_loss = torch.cat(action_losses).sum()\n",
    "    action_loss.backward()\n",
    "\n",
    "    ## step the optimizer\n",
    "    optimizer.step()\n",
    "\n",
    "    ## get stats\n",
    "    ep_reward = sum(rewards)\n",
    "    running_reward = 0.05 * ep_reward + (1 - 0.05) * running_reward\n",
    "    if e % 10 == 0:\n",
    "        print('Episode {}\\tLast reward: {:.2f}\\tAverage reward: {:.2f}'.format(\n",
    "                  e, ep_reward, running_reward))\n",
    "    if running_reward > env.spec.reward_threshold:\n",
    "        print(\"Solved! Running reward is now {} and \"\n",
    "                  \"the last episode runs to {} time steps!\".format(running_reward, t))\n",
    "        break\n",
    "    \n",
    "env.close()"
   ]
  },
  {
   "cell_type": "code",
   "execution_count": null,
   "metadata": {},
   "outputs": [],
   "source": []
  }
 ]
}