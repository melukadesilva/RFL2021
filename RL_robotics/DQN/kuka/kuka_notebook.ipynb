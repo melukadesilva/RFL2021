{
 "metadata": {
  "language_info": {
   "codemirror_mode": {
    "name": "ipython",
    "version": 3
   },
   "file_extension": ".py",
   "mimetype": "text/x-python",
   "name": "python",
   "nbconvert_exporter": "python",
   "pygments_lexer": "ipython3",
   "version": "3.8.5-final"
  },
  "orig_nbformat": 2,
  "kernelspec": {
   "name": "python3",
   "display_name": "Python 3",
   "language": "python"
  }
 },
 "nbformat": 4,
 "nbformat_minor": 2,
 "cells": [
  {
   "cell_type": "code",
   "execution_count": 1,
   "metadata": {},
   "outputs": [
    {
     "output_type": "stream",
     "name": "stdout",
     "text": [
      "current_dir=/home/akaaku13m/my_env/robot_lab_1/lib/python3.8/site-packages/pybullet_envs/bullet\n"
     ]
    }
   ],
   "source": [
    "## do the necessary imports\n",
    "import torch\n",
    "import torch.nn as nn\n",
    "import torch.optim as optim\n",
    "import gym\n",
    "import numpy as np\n",
    "import cv2\n",
    "import matplotlib.pyplot as plt\n",
    "\n",
    "import dqn_model\n",
    "\n",
    "from collections import deque, Counter\n",
    "import random\n",
    "import os\n",
    "\n",
    "from pybullet_envs.bullet.kuka_diverse_object_gym_env import KukaDiverseObjectEnv\n",
    "from gym import spaces\n",
    "import pybullet as p"
   ]
  },
  {
   "source": [
    "# KUKA Deep Q-Learning Example\n",
    "\n",
    "## Task\n",
    "The task is to train a kuka manipulator to grasp opjects. For this task the agent is the KUKA manipulator with 7 possible actions. The actions are the 2 x axis velocities, 2 y axis velocities, 1 end effector vertical orientation angle and 1 No movement. For each action, the manipulator will automatically move down (height hack). Each discrete action is as follows,\n",
    "\n",
    "$x = (+/-)dv$, $y = (+/-)dv$, $z = -dv_z$, $a = (+/-)da$\n",
    "\n",
    "## Action space\n",
    "The manipulator is originally in the continuous action space where the continuous actions are: offset in XYZ directions and vertical angle offset (radian) and grap angle (radian). So the 7 discrete actions must be converted to continuous action set:\n",
    "\n",
    "\n",
    "continuous_actions $= [dx, dy, dz, da, f]$\n",
    "\n",
    "## Reward\n",
    "The reward function is sparse. Every step agent gets a reward of 0 and in the last step if the object is .2 above height the reward would be 1 and 0 otherwise\n"
   ],
   "cell_type": "markdown",
   "metadata": {}
  },
  {
   "cell_type": "code",
   "execution_count": 2,
   "metadata": {},
   "outputs": [
    {
     "output_type": "execute_result",
     "data": {
      "text/plain": [
       "(48, 48, 3)"
      ]
     },
     "metadata": {},
     "execution_count": 2
    }
   ],
   "source": [
    "## create the environment and connect to the physics server\n",
    "env = KukaDiverseObjectEnv(renders=False, isDiscrete=True, removeHeightHack=False, maxSteps=20)\n",
    "env.cid = p.connect(p.DIRECT)\n",
    "state = env.reset()\n",
    "state.shape"
   ]
  },
  {
   "cell_type": "code",
   "execution_count": 3,
   "metadata": {},
   "outputs": [],
   "source": [
    "# ## play random steps and see how it works\n",
    "# random_action = np.random.randint(0,6)\n",
    "# reward_list = list()\n",
    "# #for _ in range(1000):\n",
    "# while True:\n",
    "#     next_state, reward, done, _ = env.step(action=random_action)\n",
    "#     #print(a[3])\n",
    "#     reward_list.append(reward)\n",
    "#     if done:\n",
    "#         #print(reward_list)\n",
    "#         reward_list = list()\n",
    "#         env.reset()"
   ]
  },
  {
   "cell_type": "code",
   "execution_count": 2,
   "metadata": {},
   "outputs": [],
   "source": [
    "## get an observation from the camera thats looking at the manipulator end effector\n",
    "def get_observation():\n",
    "    obs = env._get_observation()#.transpose(2, 0, 1)\n",
    "    #print(obs.shape)\n",
    "    return obs"
   ]
  },
  {
   "cell_type": "code",
   "execution_count": 5,
   "metadata": {},
   "outputs": [
    {
     "output_type": "execute_result",
     "data": {
      "text/plain": [
       "<matplotlib.image.AxesImage at 0x7fbc4f7b7280>"
      ]
     },
     "metadata": {},
     "execution_count": 5
    },
    {
     "output_type": "display_data",
     "data": {
      "text/plain": "<Figure size 432x288 with 1 Axes>",
      "image/svg+xml": "<?xml version=\"1.0\" encoding=\"utf-8\" standalone=\"no\"?>\n<!DOCTYPE svg PUBLIC \"-//W3C//DTD SVG 1.1//EN\"\n  \"http://www.w3.org/Graphics/SVG/1.1/DTD/svg11.dtd\">\n<!-- Created with matplotlib (https://matplotlib.org/) -->\n<svg height=\"250.052344pt\" version=\"1.1\" viewBox=\"0 0 251.565 250.052344\" width=\"251.565pt\" xmlns=\"http://www.w3.org/2000/svg\" xmlns:xlink=\"http://www.w3.org/1999/xlink\">\n <metadata>\n  <rdf:RDF xmlns:cc=\"http://creativecommons.org/ns#\" xmlns:dc=\"http://purl.org/dc/elements/1.1/\" xmlns:rdf=\"http://www.w3.org/1999/02/22-rdf-syntax-ns#\">\n   <cc:Work>\n    <dc:type rdf:resource=\"http://purl.org/dc/dcmitype/StillImage\"/>\n    <dc:date>2020-12-17T15:48:40.084046</dc:date>\n    <dc:format>image/svg+xml</dc:format>\n    <dc:creator>\n     <cc:Agent>\n      <dc:title>Matplotlib v3.3.3, https://matplotlib.org/</dc:title>\n     </cc:Agent>\n    </dc:creator>\n   </cc:Work>\n  </rdf:RDF>\n </metadata>\n <defs>\n  <style type=\"text/css\">*{stroke-linecap:butt;stroke-linejoin:round;}</style>\n </defs>\n <g id=\"figure_1\">\n  <g id=\"patch_1\">\n   <path d=\"M 0 250.052344 \nL 251.565 250.052344 \nL 251.565 0 \nL 0 0 \nz\n\" style=\"fill:none;\"/>\n  </g>\n  <g id=\"axes_1\">\n   <g id=\"patch_2\">\n    <path d=\"M 26.925 226.174219 \nL 244.365 226.174219 \nL 244.365 8.734219 \nL 26.925 8.734219 \nz\n\" style=\"fill:#ffffff;\"/>\n   </g>\n   <g clip-path=\"url(#p64be6105bc)\">\n    <image height=\"218\" id=\"image08912586a6\" transform=\"scale(1 -1)translate(0 -218)\" width=\"218\" x=\"26.925\" xlink:href=\"data:image/png;base64,\niVBORw0KGgoAAAANSUhEUgAAANoAAADaCAYAAADAHVzbAAAi0UlEQVR4nO2daZBmZ3Xfz33vfbfee3p6umffNQtaERqEFRMTl2MbbMsCYeJyqoJdiY0TAXZcEosQsiRQhElhJGyCy3gBQooCGwgR2CpBCLEpEGAiNAZG0iw9S890z9rd0+u75oM+nf//n+ouTD3Kh/P79jx13rs/771nzz7/X+7tGtCBcbkoUMQ6XS/VMdqMvfMDn3bj+fl5kinlftvtNu7drJThtjOSyYvcj3M+5nUj62iup15z45VGg2Qe+t3Xu3GnxceYdf0xtjssUy4qMMMy3cyfW8anapmYxP0VpZxkMthfs833rAr3upTxdlrd9qrHk8NcnvN28J512k2S6Yrr2O623LhcVEkmyzOcIJmiVPL7Es/Vw0/2uXGtj5+hcrXHb7dSI5kSzQRB8GMnFloQJCAWWhAkIBZaECSgaLbbNFkGQ0KXjBFm3Y6fewcYPszMFpeW3FgZKDpd3DYrv7ArK5VYaW02vSJNmzWzSxcv0twsKukl/u958EOfBRGWeddv3e7GmbhmWY4GE5apkNFAGD66fI0KMD50hXEK73VPhY0I9CtlVAGDVbWCRh42KpWEwaSFhq+Mr2upzHO1rOx/JgxGpdwfExpwzMwaLf/MZOJc2yDT7fB2cE7JxBstCBIQCy0IEhALLQgSUFiHnYQGjsSS0He6sEa74hsYv/ibTZYpCr8dpccV4ERtNtmpjDL1OusfV67M0FytVof983f65NkpN1YO/N//sNfjTOhRD7zFO75L4n+uDc7wUkU4esXvWqB/FUpvAR1E3FbLQCfsdPn5qNe8Q5Z0LTOrVL2OpPbVacExl/lcTWy7U6Buxzqiod7UapFITg5r5v5f9Nt53//k7XRCRwuC/z+IhRYECYiFFgQJiIUWBAkoMnD+mZk1GuDIq/N6vOf9n3TjpeVlkslK3mgg7ByWgZMSlXozsy4YFjLx/1CUceNsDRjdsJ7mSrD/mZlZcZBeRmUYnDlz1o37entJ5j0f+YLfrPC0LsN1fPh3Xk8yjSYr5OhEbwqnPjq1lYMWsxA64lwxEKFS5Weo2fD3Maf7Y1aBzIlWY4lkygVvG53xKoCg0fDXsSizcawDz5raV2PFG97aIsMgb/v7gcYRs3ijBUESYqEFQQJioQVBAoqi4O90zLzFAGIzs8HhYS8zM0MylK0sttPq+O/bSpm/k9vwLV2rCwcloL6TM2M9YWjA61Ib1g2QzPA6n1W73ODv9O8dPuLGCwuLJDN/4qQb16qsN6Dj/d2P/TXJyMDnN9/pJ0QAQQl0Zta+jKKxVTBwXsIscD6eStXPod5vZoZx1ypYISsJhzVNiax8eK67HdZrq+BUX17hY8QA9nZzhY8HMqpVVni80YIgAbHQgiABsdCCIAGx0IIgAUVHKG4FOpqF8n3u3Dk3zoQMOhYrIhO3seKVSzR8mImMYhEZj2Xr1DH39rLxYaDHlwrrqddJpgMO4mrO2375Tde6cUM4er/z3e+5cVMc4woo5E2xHTRGmJnd/9hfeRnhIH7grte5sTIYUQy7MGB1wWDTaYoMELCxVUQ6AWY452V+PrprKBOHpQ/NODOgJkrAoVGrLAxxXTAOvevnOXPkD74KDuu2CCigmSAIfuzEQguCBMRCC4IEFCogE/W2+/74CySDWbbLDXbkofO5Jb7lC5BROiNmIqM+ZsY6WVk44vtqrH/94NnjbnzdS/bwMeb+GMsiC7sJ3+U1kYX9qn92yI1zUcp6EXS0b//D/yEZxeS5aX+MYv/3PfoZNxaX2jpQbvs//d6vkAxmarc6rLdkHXD0irJkdXTYCxml/+UQINwVen0FdDKljVZAJ5T2CrjXqFeacaWsvBw6WhC8KMRCC4IExEILggTEQguCBBTce8ysA4aF5cUFksHsYOx1ZWbWXINDsAXl1ZQTdXjdMM3RvqAE3djgIMmsG+K58m5/rlVxjOSzFQ7jvO23MzDQTzKLiz6DuKeHHbR1yEz45Vf/DMnMzHKfuf/19990464oE3fmjA8ywEyBF/D3423v/xRJYED//W+6nWSGhob8hHg+MHy/yzYEy0WQA9hZLBfl5vD5VFkIaPzoCOe8QWk7VY6wCZnhRYWNbvFGC4IExEILggTEQguCBGSqh/V9H/JZvXOi9zTGnpZEoK1yAK6yGdkLe92Q19EqFdaj0Im8ffM4ySidpA2O5kzoX1iZCh3YZhzEq7KncwiQrfdyoGsdnOqqKlhPD+sAp8BpfProBMlMft8757Fst5nZ8pLPDC8LHQkdy0ofxezlD977RpKhSlVVvh6NFa6uVgFHf1e8LlC3a61wQAXGauSiIhzq46pFFFYgeOSr3Oc63mhBkIBYaEGQgFhoQZCAWGhBkICiLQwWbTBIyD5aoBRWhfK/sOAd3SoLGw0mg8LRXIFey8rJPjbqf1eusOFDJOJaDTKsW6KPVrmsrgAA59Fc4Yj2al+fGy8tcAnsxrL/XW9/H8mg4UOxbe9Omnvdq37ajVVpvxUwGjz64T8lmeHBITe+coXLqOfQ9+4Nd72PZDZu8garXFga/vPbf43m0GGtMvfxuVLnig+xKtFOTm3xEGEv8rbo3xdvtCBIQCy0IEhALLQgSECh+gbPg27VU2dHIrZpUroNOYiVtw8YXjdEcw3IOlbZw/29vpR3bw+3TZIVtlBHFTprL7RgUtnCZagcpkqtZ6DtdkQp68aod3ayFrc2LpydprnHIaj45258GckMrfetrd5x91tJ5vSpU278Xz/1WZLJu/78MZPezOz89Hk3Vjr8XQ/9Bc0VkGH/wXf9OsmI2l00Uym8btcWZdSxChb2+DYzy2GqscwBHvFGC4IExEILggTEQguCBMRCC4IEZNdfd4C0xKtXvTGkhNqemTWhDJiKaEfjg3IIDq8bceOeHnZ8N2BfA73sxN25bZMbq8SBeh8bdZpLGNUtnOp4HiJTAcvblVXPZFC2Z8TxrMFeJHs2n5+c8vsSF+BX/8W/9DJiXzWIoFfR83g9ZkVvvCYYxz7z+S+RzOWZK7BhUe5N9JXGLPwNY9ybPM+8waQrDE+P3v8bboz9zM3MOtQvjo0qWLVdZWHHGy0IEhALLQgSEAstCBIQCy0IEpDdcP21whgy58Zl0beqDQrpskgVr4Aii/3SzMx6IOqiLOrql6t+O+MbRkmmyLxGOgJGFjOzjug1VgLFFc/LjHumrYjI/DqUF5jpXb0E2tSpSZLZuH2LG1+aukAyytDxz/cfdGPVeH10w5gbqwibxSVvCFsUTe/XrfPRK/MLV0kGe7gdO36GZI4cPenG/f0czfONp75Jc12IoM9LwvgAhh68z2ZmG0a9EQUNH2Zmj97no05ycc2wPv9yg+N54o0WBAmIhRYECYiFFgQJyHbs2EIfphyxzN+3VAJcZJ7moKMJvzfV/NLlzfwPe0W5tc0b/fc29sY2M+vt7aG5GpR3U6XcMMNbcaECJaiFUxlRDnwVdY/85N4DNLdh3Gcrl0TZPMwmn59j3Wp25rIbq4z3VgN6wYmyeejUfuLLXyWZLPe/67SEDi16X2OW8/eefoZlhIMaQR0VdT8zsw2j3h5QEZUEPvAOnwVeEsEb8UYLggTEQguCBMRCC4IExEILggRkO3duJ2MIKvJd4SDFtHPVCL4HlO/BATY0tNdQye3u33qzG7/3Qx8kmW2bvdI6OzNHMgNQJs2Mo8NVf7T+Pn8eqkRfa9w7yJWh4/L5i26MBgMzswMj3qnc2yMMOFW+jps2b3Zj1WdguQkGInEe2NOuUmflvwBDy/w898/rg+N+8mtfJ5mVpj//QvzvH7x2H80999wxN/65a+4gmS8e+bQb/8KBf0Uy93/sbjdWPf6wbILq37cBAiiwFr9ZvNGCIAmx0IIgAbHQgiABhXKs5tQ4ir9dsd+v7ofsuXiJS0ePj/nv20995M9IBstU9/Swg/TUGZ9hPDjIPbsuXub9j474ANlyHzvM5yCwtrpzM8lcnvbBv+j0f2EO9r1pjGRyiFfudlnXq4rzv3TFO5r7hOO9CY7moeEh3j9kjxc562hdaDbd18vBwF8GB3VbOHFrEJyAWftmZs8/f5zmbr/2V924gbqnmf3CgTe48ZHFvycZvCHLSxwMjMEKKqD7/AWveyubRrzRgiABsdCCIAGx0IIgAbHQgiABRa0msqehgXqjyXX1c6g1rzJPd+/a6sYnT54mmYuXL7nx+hHOjMY+a22R4dwPDcs7whMuqonZ5DlvRJmdnWEhsEcMN3j/m+C4l4ViPwTHyKYZrhCv7o+q/47Z6yvLvP8G9O3KRST6DJSA6x/i+4o166/MXiGZUcgmODt5nmReue/VbvyPV79FMvtqN9IcHY8o7Xdm2vcH+MRn/4pkWhAwoBzWrZa/jpnoTL+y6I0xLeHUjjdaECQgFloQJCAWWhAkoFhe5JLPGDBcyvjb1bA0slCABvq9TnLwIAeI3vOm31n1INGp/vh/+zTJ/MPTT7vxOx5+kGR66+zE7QXnL5ayNjPbf/Col2my/nds4gY33jTGlbpOnT7rxvPzXGFq26Gb3XilIe4PzZiVIPh1ZJx13QZUZ1qYU1oi7KvD9/XqwozftwgMv2b3Dje+JPpcV8v+2t82/jOrHo/i9PRJmpvt81W3RJwvVcZSPc6bHX4eGMyuF/taw1aCIPgnEgstCBIQCy0IEhALLQgSkB3Yfw2piQ1wyKpG3xid/vgnPkkyG6DxuOobdXxiwo23bdlCMqvtW3FllpXvHxw5QnPv+oP3uvFNL+Uy3Vu3Ylky3t/EhHdsTk9zI/YaOFaXRe+x8dFhNx4RDvz+fs5MGBjwZeFU2T40oojEADq5ek2UkgPneEM4x0dG/XEXk5ypUFpLMzjByXMn/PGIG/Knf/OYG6t71mqxY3l1Vs/KaLXZgBJvtCBIQCy0IEhALLQgSEDRaHB2Kpbybot2R8hAH/eVxnZHz3z/+ySzEYJPv/4tDiy94SUvcWNVYQr1P6VbLItgYNTJtmxZPVNccWrCt00q56y3rMC3vKzUBWXL5+fZGbt71x6aw0DfxUV2hlcq/r6Wy3yup8/46zG+YZxksN1SJspvY//y10BWtJnqD8339eTUBM311HxG99Glp0imC4G96hHG3WEwvZlZqYTXSD17fm5ocB3JxBstCBIQCy0IEhALLQgSEAstCBJQVER5aYwYLxfs/CyBAnzbL76GZUBJfOTe+0nm0hWfnbt7xw6SwbLYh3/4Q5L53fvucePrbzpLMsrQsRbjBzokT078NMnMXDnsxrno6zUASvJ6cE6bmc1BNjmWzTYz2yIi+q/Ow76GuK8ZGhvm8EdmNgM9086cu0QyXQxPV6Hx4NhVpbSR42dP0NxgP5/H+sFRkPlZkvkf2ZP+aLq8f+x93RaGDjTqVCv8vGCm9swsG7nijRYECYiFFgQJiIUWBAnI9u7dQx/Yg/1eJ5qb42/OHDJ6l0SAbBUDWzEr29ghWBaBx4+95xE3/rPPfJxkisqX3XjzZv6WFpWa18Tpkz/lxtNTXNFpedmff1voBMtL3iGqjgedyCMj7PxUZal7e33AwMzlyyTzEshwP3qcy223215PKWqsw6OntyaCAwrIuM9ET+2he/2cChbf98R1NPdHH/mo/53QETGAQQUQY1DDsuh7jkfdFvvCAApVHj/eaEGQgFhoQZCAWGhBkIBYaEGQgOzO176atDssp62yUy9c9I7MoaEBklmCflPnpqZJpgNh1SrptgMq6W23XSCZjRtXz4JWnDntnc9NEeFfAaPOyjIbfibP+qj3ci4UYnD0KqNGpeoV9OkLMyTTFiXQdu3Y5cZ1UVpvHpzh0+f5fuTQx6wkymTXa95Ytv9POHu6C/f16iT3ua6P+HNVRo3ynwzR3Be/9IQbq8x96g8uHiy6/spYJow4JII930XdunijBUECYqEFQQJioQVBArI7X/saoc34qbZogYRZpUdFr2EMrN25axfJYKDriROnSGYR2uKoANU7XscOWuRzn1tPcy+7+Vo/Ib7TsXS0IgcH7clTnBmNwbcYdG3G7bDaQo9TVZZmrvqMauUMHxzwevTYOOtWtarXRzPjcz952pfbHvuP3MN6eLffV17wf/rSZX9fy72s114+ytXMvnv3s/4YlWIPSnpTOKwL0D/VNUMnunJGY+BxOKyD4EUiFloQJCAWWhAkIBZaECSgUOWzmg1fKq0sskqff/6YG+/auYNkJid9lvNFEfU+t+CzfHftZoPJyRMTbrxz1zUk85UnvfFh7uoSydRq3Ov4mcNescaexWZmt7z0JjfuCotJE363fedOkimBwUSVV5s+f85vd4kd6Nt3bKe5qWnfi1tmT894g9HVeZYpl/0xbtm0lWQG+73xozbEGfiXjsy4sYrex9+t28vZ1MrRjUYLNMyZmZUgezpTTdzoPcP3dS1VyzF7OyuxASneaEGQgFhoQZCAWGhBkIBYaEGQgOy1d/w8aYnHj0248d49u1fdUGkNUc658Jj/EErHbd3K/dEwU2DjGEc0TE37SHS1HdHayg5DP4BqRaTuA80WK81YtuGG6w/wDzOsNc//cxk0LWuLNIR2mw0kCwve+DM8zKXscEtNjHA3swIiU753+DDJoAFtoJ8zN3bv9s/Miih1gae2cucMyXz37udoDiPzVaZGBwwUqiIelltQlg/ctiq3gLaPt287xzK8+yAIftzEQguCBMRCC4IEZHf80s/SRyf20XoOnNNmZlgV+uAB1kmef/6oG2/duo1ksCfVtMjC3gXf+ydOcKbAtu3eiTsBvbHNdM/mEugbqh9yFXp4L66wjrQEOpIJ/QvV2K4IFjh0y/VepiOcsSKZoNv1+5ua4pLoNSgdNzQ0xNuBcavJmQI5RL3/42Hue4fB8kWZD/oK9Idriwh73JeZGSZvNJt8P1DdyvCBNZXRzdcaI/yVoo89vR/Yydc+3mhBkIBYaEGQgFhoQZCAWGhBkIDsVa+8lbS7LZs3u/Fyk2uSL8z7qOoL0xyZ3zVMA2fFtheazKs6/3v3+OboZWhmb2Z2atKn12/etIlkjh1lo84e2PaxY0dJpgxOXBW9n2X+3LrC+YnKf7XONevb2NVcOFpfeuO1NIelAjrKQ4v18IV1aPK0z4JQPRV279nrxqq0Am55YoJLO5w9d9FvR5TRw+tqZuKaiGyKJpQxVK8U3I64ZGiMyUT/iHu2+lKDQ5wkEm+0IEhBLLQgSEAstCBIQLFhwyhNNsABKD5LKYhYZdCinrBjB2cdH4ceXblwGmLfKtJjzKwJTuQTx7gfsip3d3LC778q+nW3ocQz9nRTqBjr0fU+0LclgpMXlv25op5rZvb0Mz+gOXS0dzqcKf7yW272E+IYx0G3VVnpzz7nA30HBzgzenTUP1eoj5mZ4W1st/hcu8bO6DwHfVS0x263/flXc9brWx3U4/i902p5vfHJTz5CMt9+8I1uXBGvr3ijBUECYqEFQQJioQVBAmKhBUECste/jvujYQA79n8yM1uBPmLT56ZIZuPGjW6MWQEvzHll++hznFGLSuvWLZw9jeXWlMGkKLMRowJZ3+p3JVC+sZSZGZeOU+Xmjh3zDvNmkw0WBdT5V9nDg+u4gfyZM95pKlOKyUIjMrzBQnIrZBOYmTXJaMH7+vo3v+PGK6oRe4b3g7ejrhEeozLqYI+yclkYQyBbQJX/w7r+9+6cJJlBsJ/VC5FxwYcYBMGPm1hoQZCAWGhBkIDslkMvow/j0WEf6DswwFWOENWPGR2L56ZYjxsbH3fjK5e5z9lGkGk22UO5tOSDnPv6+klmcWmR5i5BMHRXeOdRJ1M9k7GiVVk4ehchC1uovja+0TuMT5/mfnGqetYm0FtVAexzoEfPzV0lGdSJVHUz7Jl266GbSOZvv/w1Ny6EjtQFT7NyWFfE75rgjFb6V73qr/+sKJGOCnCR83W9e6vPlh4UAcO9ZX+N6iIOOt5oQZCAWGhBkIBYaEGQgFhoQZAAqopsZnZ51ivtl2a5R1UJMl/XD3PD8Grdlzcb2zBOMljOrNngLFt0WD/7/LMks2/fPjfGiHszs94ePsZprvlMMjt3+lJ2x49zpnat1uPG64aHSKbV8E7b8XHOAn/uOPadY8e3cmKzgYSFMriOB/bvJZkWXP/h9XyMT33j79z469/8NskUOWSlt5V5Bn/DVoSGcuqXMciAn5mZOX+tsy4/6Dn0gnv8zx8kmW89+G/duCYMHRitL2wq8UYLghTEQguCBMRCC4IEZK94BVfBwpY36nu/XHjPXUu0ErIuBsiyo3n9iHeGDw5yti62yllZ4v7U5aqP7MxzDiAuKw8x+GOffZaDmvcd2O/GyjnfhlZC05PcugeLTnWNr8fGTd7xnAslWp3bSXBsD4kgg3qv11HnZmZIZh76Wt986CdJZnZ21o1nLvO5Pn34iBur0uLoaG61WR9TcFCxCDKAYOCWdIb76/h7m0+TzAgUKuspswMf9bZqOKyD4MUhFloQJCAWWhAkIBZaECSgwAzSFybBISiVf6+4ZmLNtrsQCU4ZtWbnL/ky2TNzbOjArOdNY5xhjA5SlXXbFE7sHCwU+/fvJxlstqUycUvgbK33iV7YoI+Pil7cK0u+BPdCgzMOVHm3LVt8GXeZBQ7j9eu51OCW7de4cU9PD8nUat5CsDB/iWSw95gKjMBMgaJgIVWSrwy91pZFvzqUUdv+0scecuOnfv+NJFPJ/b1WpeQqZAyJDOsgeFGIhRYECYiFFgQJKLBakJlZWziWEWr5o/pDw4e56jWMAbJt4VTGLN/JcxdIBp24Qo2y7ds4qLmNipNoZZRDRnEuSoI3oLXV2Bjva3HB61vnJrnX8Qpco21bt5LMxQt8/jPgRFal1Xfs8gHKOiteeFsB1OvVtX75LTe68VPf+S7JtOHmK31MbNoa4PyWWeDw7P3Nxx8ima+8841uPCrUatS/yuLVhHNKJt5oQZCAWGhBkIBYaEGQgFhoQZCAQpX77rZW7xuFRhRUPs04C0DJVCqrl4UuoLdVrpyx4CQUNh6bOMnl7jAzYGyUncH90Ge7uwaDQWuFI9FrUP58w4YNJIPGiLmrXBJu/Sg7mmcgEn/7bs7MRuNLo8XHeHDIO9GVcQT7jE+LMoLjUA6+LTKsW+Cwrla5lhs6vs3MOvB8FsL60IEHAJ9pM7M+KOWNzmkzNmwIvzcZbJRMvNGCIAGx0IIgAbHQgiABsdCCIAEFNhk3U43fhX8e0/JFNEkOIQNFVfWo8gqxKkrWWPDl7ihS37iHmY4pYDDKYer8DMlMX/RRF10RUTEOGQWDA1z7H3+FEf9mZrNgaBgUJQk6orzanj17vIw4xrGNPlrl9GlO3UeUsexb3/B19XcLwwvuXl0zBBuzm5l+9MDaoCJTnvjYe924LQw/WIJgLVEfytCB0fphDAmCF4lYaEGQgFhoQZCAQulWqCip6GhU7agEmJBRChh9XysZ+DtAZ6QZ621Y/u3/dYxt6NFVFKz/gYh0vF8APQ71OjOjcxtbL5zj/T6juSV6wRUF63boeFeKy8yVK268Q5QbR511aGiIZPbu2e3Gzxx+Rmxndac+Oqg7yjmtbAhwal/8S47MR434qff8JkkM11bPnkZ9C+0OWoa3E2+0IEhALLQgSEAstCBIQCy0IEhA8cBv/hJPgiP17kc/TTL1msj7BlAnVGXrSiXvxFaOTdSrVdk6NAZI4wy5jIURpbV6GQfuTWBmGTjjVRMzOKbpC1dIYvq8n1sW5R9uOMh9zdCIQcYRMxsZGXHjnr4RksFye2o7aI1Qhg/sWXbdwX0kc/iHvs+dKKEvjVNYfjAX1ocOZAuoevhrcUYXsGnV+wx3H8aQIHiRiIUWBAmIhRYECSiUJoH9n9//1jeQTBO+wXt6ayTztj/0ul1FZNCurPgybSrQtgPf5KpEXgYl4WSKtQCDb7vCY079yIRjFUuk16qsw2Lg84rIwkYqQkf5/rPcQ/vlh17hxlNnTpBMXz/38EZQJ1teXiYZdNhfe/Agy8C5SlUP71lJOKfF/Xji4w+4sXIiY0wBlo0zYx1N6V8FBGugzvbC/v1YxHfEGy0IUhALLQgSEAstCBIQCy0IElCUlJcQ1l9HlYArobLLMu97y6/4CaGQojHinR/6HMnkhXcGq8j8SsXXDmuKnlkN4fwt5f64sV+Amej1JZzhmImMvb/MzErt1TODO12oKy8i9W+67mb+IXDs1BmehB3eeogd1pcvX3bjkyeOkMxKwxtIKuUKyaBFoCTKzWVo/BB9D770Fw/QHFo62sLu9ZV7f8ONN/eJngowtRZDh3RGYxuKMIYEwYtDLLQgSEAstCBIQIHlts24WpPSbapQ3lo5XzFgV2UGd+C7/D3/4XaSySHwuCw+pt/22F+7MWZOm5kVFaFLKBUVQYekKgneRhk+xmW4RlUqh26W2eq9uJU+jH2le3u593Sj4e/j+Dj3cHv88S+48fHjx/kYQUf6qVe+gmQGoAqY6mHdhjLdZZndLvTxmpdrCf0PRKRuhQ5q5fhei47G22GZeKMFQQJioQVBAmKhBUECYqEFQQIKNn2YNZZ9RL0qwd2G8s3VChtVDPqYdRpsMGlBFgAaPszM8rLXLlUJsofffIcbq2jxPGPF+p5H/7ufEL8rl0H5bnLpajS+qH5g9Zo3xqAxwMxsecU7g8vCGazKdF+FPmrbt+0imWPHn6M5pIA045LoRWeQYf61v/sGiZTB8KQMHbceutGN3/uWO0lGGZ6wdHhJGPTQXqYi6snQoUp5r2E7/BsR0LD6z4Ig+KcSCy0IEhALLQgSUDSWWW/KoMpUUzgNe9D5q9rrwDJuiczkasVnIndLrLeUQSdpC0UKW01RVrSZtSGb28zsD9/+a/534jz+3X0fdWPVa5kugAjWbjbQ8c87Q8fzj8qAaPd0xy97HUhlT+N/b28PZ4ovLvnfqYx3vkX8n/7QXf54VK90zPZ/QRAClsXvKMhgDU5kpX6huqUChtfQ5CzeaEGQglhoQZCAWGhBkIBYaEGQAFlurgRO7KIsSj5DZnRLaIkVTKAVvb5amVesi4owBoAnMcNQeTNDG0q7K/ohC+cnltJWZcv/+L5/48ZlaQzx/Pa7P0pz9br/HZbsMzMyIqjsdtWfeu9eXyb82DEuSXfkiM+W3rFjB+8edje8bh3JLJ0968aqXxw6lVXGAV57VVq8VmZn9ErTG7XUtmVFdjoAPJ5VRdZkMIlyc0HwIhELLQgSEAstCBJQYNUlM7NMBPYiLQiireUc/NrqYn9okeEM+peKYW13wKmudAL4Ji+w3rPpylQVKKHUFh/39Vqf31eHM85rhde//vzh3yYZ6VgF/vU9j7mxypR+5vDTNLd7t+8rrfSviYkJN56amiKZn/iJ21Y9xk984i9XlUF//f/+3AdYqLm6ItVoibLpXf+QtEX1rCWh/q7GWvS6H7XCVbzRgiABsdCCIAGx0IIgAbHQgiAB2d9+9N2kAuZgtCgJD1yXlqjqTw0R9Pwjyl7G/sQvHA9MiBbSBZQNz8scvW8l/iFmdJdEtDhmC1SFU70MVhzlRKXe18ryA9dRlQRvNVjT//V7P+zGeD3MzG668WVif556ffXe5D8Kb7r9pTSHvcdUVoYyIOWQrX3Xx7gXeA6Z6f/+xJtIZgBsc3VRxhB7X6te2BU4xLJIAYk3WhAkIBZaECQgFloQJKBQvZ7bLe+Q7ap+S6gCqb7S8K2q9KYMPJuqjVQXHJIqyDmD/auS3NgL+wVBvz/lVM+gP3VbVMHq5uDE7ohAbDi3XJQtR/24y75xq4iqTx9/5C7/uxZv+48+/zRvLBEtkaVvoB9nwvH81k9epbkC+oP3DHD7qQIy91fE7rFQmSgAQE5s5dSmKSETb7QgSEAstCBIQCy0IEhALLQgSMD/Bbx3CSZsBLgsAAAAAElFTkSuQmCC\" y=\"-8.174219\"/>\n   </g>\n   <g id=\"matplotlib.axis_1\">\n    <g id=\"xtick_1\">\n     <g id=\"line2d_1\">\n      <defs>\n       <path d=\"M 0 0 \nL 0 3.5 \n\" id=\"m2eea6ed480\" style=\"stroke:#000000;stroke-width:0.8;\"/>\n      </defs>\n      <g>\n       <use style=\"stroke:#000000;stroke-width:0.8;\" x=\"29.19\" xlink:href=\"#m2eea6ed480\" y=\"226.174219\"/>\n      </g>\n     </g>\n     <g id=\"text_1\">\n      <!-- 0 -->\n      <g transform=\"translate(26.00875 240.772656)scale(0.1 -0.1)\">\n       <defs>\n        <path d=\"M 31.78125 66.40625 \nQ 24.171875 66.40625 20.328125 58.90625 \nQ 16.5 51.421875 16.5 36.375 \nQ 16.5 21.390625 20.328125 13.890625 \nQ 24.171875 6.390625 31.78125 6.390625 \nQ 39.453125 6.390625 43.28125 13.890625 \nQ 47.125 21.390625 47.125 36.375 \nQ 47.125 51.421875 43.28125 58.90625 \nQ 39.453125 66.40625 31.78125 66.40625 \nz\nM 31.78125 74.21875 \nQ 44.046875 74.21875 50.515625 64.515625 \nQ 56.984375 54.828125 56.984375 36.375 \nQ 56.984375 17.96875 50.515625 8.265625 \nQ 44.046875 -1.421875 31.78125 -1.421875 \nQ 19.53125 -1.421875 13.0625 8.265625 \nQ 6.59375 17.96875 6.59375 36.375 \nQ 6.59375 54.828125 13.0625 64.515625 \nQ 19.53125 74.21875 31.78125 74.21875 \nz\n\" id=\"DejaVuSans-48\"/>\n       </defs>\n       <use xlink:href=\"#DejaVuSans-48\"/>\n      </g>\n     </g>\n    </g>\n    <g id=\"xtick_2\">\n     <g id=\"line2d_2\">\n      <g>\n       <use style=\"stroke:#000000;stroke-width:0.8;\" x=\"74.49\" xlink:href=\"#m2eea6ed480\" y=\"226.174219\"/>\n      </g>\n     </g>\n     <g id=\"text_2\">\n      <!-- 10 -->\n      <g transform=\"translate(68.1275 240.772656)scale(0.1 -0.1)\">\n       <defs>\n        <path d=\"M 12.40625 8.296875 \nL 28.515625 8.296875 \nL 28.515625 63.921875 \nL 10.984375 60.40625 \nL 10.984375 69.390625 \nL 28.421875 72.90625 \nL 38.28125 72.90625 \nL 38.28125 8.296875 \nL 54.390625 8.296875 \nL 54.390625 0 \nL 12.40625 0 \nz\n\" id=\"DejaVuSans-49\"/>\n       </defs>\n       <use xlink:href=\"#DejaVuSans-49\"/>\n       <use x=\"63.623047\" xlink:href=\"#DejaVuSans-48\"/>\n      </g>\n     </g>\n    </g>\n    <g id=\"xtick_3\">\n     <g id=\"line2d_3\">\n      <g>\n       <use style=\"stroke:#000000;stroke-width:0.8;\" x=\"119.79\" xlink:href=\"#m2eea6ed480\" y=\"226.174219\"/>\n      </g>\n     </g>\n     <g id=\"text_3\">\n      <!-- 20 -->\n      <g transform=\"translate(113.4275 240.772656)scale(0.1 -0.1)\">\n       <defs>\n        <path d=\"M 19.1875 8.296875 \nL 53.609375 8.296875 \nL 53.609375 0 \nL 7.328125 0 \nL 7.328125 8.296875 \nQ 12.9375 14.109375 22.625 23.890625 \nQ 32.328125 33.6875 34.8125 36.53125 \nQ 39.546875 41.84375 41.421875 45.53125 \nQ 43.3125 49.21875 43.3125 52.78125 \nQ 43.3125 58.59375 39.234375 62.25 \nQ 35.15625 65.921875 28.609375 65.921875 \nQ 23.96875 65.921875 18.8125 64.3125 \nQ 13.671875 62.703125 7.8125 59.421875 \nL 7.8125 69.390625 \nQ 13.765625 71.78125 18.9375 73 \nQ 24.125 74.21875 28.421875 74.21875 \nQ 39.75 74.21875 46.484375 68.546875 \nQ 53.21875 62.890625 53.21875 53.421875 \nQ 53.21875 48.921875 51.53125 44.890625 \nQ 49.859375 40.875 45.40625 35.40625 \nQ 44.1875 33.984375 37.640625 27.21875 \nQ 31.109375 20.453125 19.1875 8.296875 \nz\n\" id=\"DejaVuSans-50\"/>\n       </defs>\n       <use xlink:href=\"#DejaVuSans-50\"/>\n       <use x=\"63.623047\" xlink:href=\"#DejaVuSans-48\"/>\n      </g>\n     </g>\n    </g>\n    <g id=\"xtick_4\">\n     <g id=\"line2d_4\">\n      <g>\n       <use style=\"stroke:#000000;stroke-width:0.8;\" x=\"165.09\" xlink:href=\"#m2eea6ed480\" y=\"226.174219\"/>\n      </g>\n     </g>\n     <g id=\"text_4\">\n      <!-- 30 -->\n      <g transform=\"translate(158.7275 240.772656)scale(0.1 -0.1)\">\n       <defs>\n        <path d=\"M 40.578125 39.3125 \nQ 47.65625 37.796875 51.625 33 \nQ 55.609375 28.21875 55.609375 21.1875 \nQ 55.609375 10.40625 48.1875 4.484375 \nQ 40.765625 -1.421875 27.09375 -1.421875 \nQ 22.515625 -1.421875 17.65625 -0.515625 \nQ 12.796875 0.390625 7.625 2.203125 \nL 7.625 11.71875 \nQ 11.71875 9.328125 16.59375 8.109375 \nQ 21.484375 6.890625 26.8125 6.890625 \nQ 36.078125 6.890625 40.9375 10.546875 \nQ 45.796875 14.203125 45.796875 21.1875 \nQ 45.796875 27.640625 41.28125 31.265625 \nQ 36.765625 34.90625 28.71875 34.90625 \nL 20.21875 34.90625 \nL 20.21875 43.015625 \nL 29.109375 43.015625 \nQ 36.375 43.015625 40.234375 45.921875 \nQ 44.09375 48.828125 44.09375 54.296875 \nQ 44.09375 59.90625 40.109375 62.90625 \nQ 36.140625 65.921875 28.71875 65.921875 \nQ 24.65625 65.921875 20.015625 65.03125 \nQ 15.375 64.15625 9.8125 62.3125 \nL 9.8125 71.09375 \nQ 15.4375 72.65625 20.34375 73.4375 \nQ 25.25 74.21875 29.59375 74.21875 \nQ 40.828125 74.21875 47.359375 69.109375 \nQ 53.90625 64.015625 53.90625 55.328125 \nQ 53.90625 49.265625 50.4375 45.09375 \nQ 46.96875 40.921875 40.578125 39.3125 \nz\n\" id=\"DejaVuSans-51\"/>\n       </defs>\n       <use xlink:href=\"#DejaVuSans-51\"/>\n       <use x=\"63.623047\" xlink:href=\"#DejaVuSans-48\"/>\n      </g>\n     </g>\n    </g>\n    <g id=\"xtick_5\">\n     <g id=\"line2d_5\">\n      <g>\n       <use style=\"stroke:#000000;stroke-width:0.8;\" x=\"210.39\" xlink:href=\"#m2eea6ed480\" y=\"226.174219\"/>\n      </g>\n     </g>\n     <g id=\"text_5\">\n      <!-- 40 -->\n      <g transform=\"translate(204.0275 240.772656)scale(0.1 -0.1)\">\n       <defs>\n        <path d=\"M 37.796875 64.3125 \nL 12.890625 25.390625 \nL 37.796875 25.390625 \nz\nM 35.203125 72.90625 \nL 47.609375 72.90625 \nL 47.609375 25.390625 \nL 58.015625 25.390625 \nL 58.015625 17.1875 \nL 47.609375 17.1875 \nL 47.609375 0 \nL 37.796875 0 \nL 37.796875 17.1875 \nL 4.890625 17.1875 \nL 4.890625 26.703125 \nz\n\" id=\"DejaVuSans-52\"/>\n       </defs>\n       <use xlink:href=\"#DejaVuSans-52\"/>\n       <use x=\"63.623047\" xlink:href=\"#DejaVuSans-48\"/>\n      </g>\n     </g>\n    </g>\n   </g>\n   <g id=\"matplotlib.axis_2\">\n    <g id=\"ytick_1\">\n     <g id=\"line2d_6\">\n      <defs>\n       <path d=\"M 0 0 \nL -3.5 0 \n\" id=\"m427d0fb7f8\" style=\"stroke:#000000;stroke-width:0.8;\"/>\n      </defs>\n      <g>\n       <use style=\"stroke:#000000;stroke-width:0.8;\" x=\"26.925\" xlink:href=\"#m427d0fb7f8\" y=\"10.999219\"/>\n      </g>\n     </g>\n     <g id=\"text_6\">\n      <!-- 0 -->\n      <g transform=\"translate(13.5625 14.798437)scale(0.1 -0.1)\">\n       <use xlink:href=\"#DejaVuSans-48\"/>\n      </g>\n     </g>\n    </g>\n    <g id=\"ytick_2\">\n     <g id=\"line2d_7\">\n      <g>\n       <use style=\"stroke:#000000;stroke-width:0.8;\" x=\"26.925\" xlink:href=\"#m427d0fb7f8\" y=\"56.299219\"/>\n      </g>\n     </g>\n     <g id=\"text_7\">\n      <!-- 10 -->\n      <g transform=\"translate(7.2 60.098437)scale(0.1 -0.1)\">\n       <use xlink:href=\"#DejaVuSans-49\"/>\n       <use x=\"63.623047\" xlink:href=\"#DejaVuSans-48\"/>\n      </g>\n     </g>\n    </g>\n    <g id=\"ytick_3\">\n     <g id=\"line2d_8\">\n      <g>\n       <use style=\"stroke:#000000;stroke-width:0.8;\" x=\"26.925\" xlink:href=\"#m427d0fb7f8\" y=\"101.599219\"/>\n      </g>\n     </g>\n     <g id=\"text_8\">\n      <!-- 20 -->\n      <g transform=\"translate(7.2 105.398437)scale(0.1 -0.1)\">\n       <use xlink:href=\"#DejaVuSans-50\"/>\n       <use x=\"63.623047\" xlink:href=\"#DejaVuSans-48\"/>\n      </g>\n     </g>\n    </g>\n    <g id=\"ytick_4\">\n     <g id=\"line2d_9\">\n      <g>\n       <use style=\"stroke:#000000;stroke-width:0.8;\" x=\"26.925\" xlink:href=\"#m427d0fb7f8\" y=\"146.899219\"/>\n      </g>\n     </g>\n     <g id=\"text_9\">\n      <!-- 30 -->\n      <g transform=\"translate(7.2 150.698437)scale(0.1 -0.1)\">\n       <use xlink:href=\"#DejaVuSans-51\"/>\n       <use x=\"63.623047\" xlink:href=\"#DejaVuSans-48\"/>\n      </g>\n     </g>\n    </g>\n    <g id=\"ytick_5\">\n     <g id=\"line2d_10\">\n      <g>\n       <use style=\"stroke:#000000;stroke-width:0.8;\" x=\"26.925\" xlink:href=\"#m427d0fb7f8\" y=\"192.199219\"/>\n      </g>\n     </g>\n     <g id=\"text_10\">\n      <!-- 40 -->\n      <g transform=\"translate(7.2 195.998437)scale(0.1 -0.1)\">\n       <use xlink:href=\"#DejaVuSans-52\"/>\n       <use x=\"63.623047\" xlink:href=\"#DejaVuSans-48\"/>\n      </g>\n     </g>\n    </g>\n   </g>\n   <g id=\"patch_3\">\n    <path d=\"M 26.925 226.174219 \nL 26.925 8.734219 \n\" style=\"fill:none;stroke:#000000;stroke-linecap:square;stroke-linejoin:miter;stroke-width:0.8;\"/>\n   </g>\n   <g id=\"patch_4\">\n    <path d=\"M 244.365 226.174219 \nL 244.365 8.734219 \n\" style=\"fill:none;stroke:#000000;stroke-linecap:square;stroke-linejoin:miter;stroke-width:0.8;\"/>\n   </g>\n   <g id=\"patch_5\">\n    <path d=\"M 26.925 226.174219 \nL 244.365 226.174219 \n\" style=\"fill:none;stroke:#000000;stroke-linecap:square;stroke-linejoin:miter;stroke-width:0.8;\"/>\n   </g>\n   <g id=\"patch_6\">\n    <path d=\"M 26.925 8.734219 \nL 244.365 8.734219 \n\" style=\"fill:none;stroke:#000000;stroke-linecap:square;stroke-linejoin:miter;stroke-width:0.8;\"/>\n   </g>\n  </g>\n </g>\n <defs>\n  <clipPath id=\"p64be6105bc\">\n   <rect height=\"217.44\" width=\"217.44\" x=\"26.925\" y=\"8.734219\"/>\n  </clipPath>\n </defs>\n</svg>\n",
      "image/png": "[encoded data removed]"
     },
     "metadata": {
      "needs_background": "light"
     }
    }
   ],
   "source": [
    "## The initial observation\n",
    "plt.imshow(get_observation())"
   ]
  },
  {
   "source": [
    "# Memory Buffer\n",
    "\n",
    "A memory buffer is implemented to store the $(s, a, r, s')$ tuple so that once the buffer is filled enough the agent can sample data from the buffer and use an off-policy method to train on them.\n",
    "\n",
    "The buffer is implemented using a deque. A deque has a capacity and when the duffer is filled, it will pop the oldes element to facilitate the newest element. \n",
    "\n",
    "the push method of the class adds new elements to the buffer and sample method randomly sample a set of buffer elements (number of elements to be sampled is defined using a batch size)"
   ],
   "cell_type": "markdown",
   "metadata": {}
  },
  {
   "cell_type": "code",
   "execution_count": 8,
   "metadata": {},
   "outputs": [],
   "source": [
    "class ReplayBuffer:\n",
    "    ## initialize the buffer\n",
    "    def __init__(self, max_len):\n",
    "        self.buffer = deque(maxlen=max_len)\n",
    "\n",
    "    ## get buffer length\n",
    "    def __len__(self):\n",
    "        return len(self.buffer)\n",
    "\n",
    "    ## append a sample of data to the buffer\n",
    "    def push(self, experiance):\n",
    "        self.buffer.append(experiance)\n",
    "    \n",
    "    ## sample data from the buffer\n",
    "    def sample(self, batch_size):\n",
    "        ## get a set of samples randomly\n",
    "        batch_idx = np.random.choice(len(self.buffer), batch_size)\n",
    "        state, action, reward, new_state = zip(*[self.buffer[idx] for idx in batch_idx])\n",
    "        \n",
    "        ## convert the state and new_state deques to a tensor\n",
    "        ## converting the list to np array is a must, otherwise it\n",
    "        ## introduces a bottleneck in performances\n",
    "        state = torch.squeeze(torch.FloatTensor(np.array([state])), 0).to(device)\n",
    "        new_state = torch.squeeze(torch.FloatTensor(np.array([new_state])), 0).to(device)\n",
    "\n",
    "        ## convert the action batch to a tensor so it can gather\n",
    "        action = torch.unsqueeze(torch.tensor(action), dim=1).to(device)\n",
    "\n",
    "        ## convert rewards to tensor for bellman calculation\n",
    "        reward = torch.tensor(reward).to(device)\n",
    "        \n",
    "        return state, action, reward, new_state"
   ]
  },
  {
   "source": [
    "# Agent\n",
    "\n",
    "The agent class has two major attributes, the policy network and the environment. When given an epislon value, the agent will perform either a random action (exploration) or an optimal action (exploitation) on the environment\n",
    "\n",
    "the job of the agent as follows\n",
    "* agent should perform an action\n",
    "* When the action is from policy network, it is considered that the action belongs to the optimal policy $\\pi^*(s) = \\arg\\!\\max_a \\ Q^*(s, a)$\n",
    "* agent should keep track of total reward for each episode so we know if the agent improves or not\n",
    "* To optimise the policy network the predicted $Q(s,a)$ is compared against a true $Q_{true}(s,a)$. The $Q_{true}(s,a)$ is computed using the reward obtained from the environment and the target network (an old copy of the policy network)\n",
    "\\begin{align} Q_{true}(s,a) = r + \\gamma max_{a} \\hat Q(s',a')\\end{align}\n",
    "* Once the true labels of the Q function is computed, the estimated $Q(s,a)$ can be found using the temporal difference $\\delta$\n",
    "\\begin{align}\\delta = Q(s,a) - (r + \\gamma max_{a} \\hat Q(s',a')\\end{align}\n",
    "* Mean Squred Error is used as the loss function $L(\\delta)$\n",
    "* Finally the policy network can be optimized using one of the optimization algorithms (e.g. SGD, Adam, RMSprop)"
   ],
   "cell_type": "markdown",
   "metadata": {}
  },
  {
   "cell_type": "code",
   "execution_count": 9,
   "metadata": {},
   "outputs": [],
   "source": [
    "class Agent:\n",
    "    ## Initialize the agent\n",
    "    def __init__(self, policy_net, env):\n",
    "        ## keep track of frames for debugging\n",
    "        self.step_counter = 0\n",
    "        self.policy_net = policy_net\n",
    "        self.env = env\n",
    "        self.total_reward = 0.0\n",
    "        self.env.reset()\n",
    "\n",
    "    ## play a step\n",
    "    def play_step(self, state, epsilon):\n",
    "        done_reward = None\n",
    "        ## increment the step counter\n",
    "        self.step_counter += 1\n",
    "        rnd = random.random()\n",
    "        if rnd > epsilon:\n",
    "            state = torch.unsqueeze(state, 0).to(device)\n",
    "            #print(state.size())\n",
    "            action = self.policy_net(state).max(1)[1].view(1,1)\n",
    "            action = action.item()\n",
    "        else:\n",
    "            #print(\"random\")\n",
    "            action = self.env.action_space.sample()\n",
    "        \n",
    "        new_state, reward, is_done, _ = self.env.step(action)\n",
    "        self.total_reward += reward\n",
    "        ## check if the episode has ended\n",
    "        if is_done:\n",
    "            done_reward = self.total_reward\n",
    "            self.total_reward = 0.0\n",
    "\n",
    "        return action, done_reward, reward, new_state, is_done\n",
    "\n",
    "    def compute_loss(self, tgt_net, batch):\n",
    "        ## unpack the databatch\n",
    "        state, action, reward, new_state = batch\n",
    "\n",
    "        ## convert the state and new_state deques to a tensor\n",
    "        ## converting the list to np array is a must, otherwise it\n",
    "        ## introduces a bottleneck in performances\n",
    "\n",
    "        ##to compute the loss we need Q(s,a) and Q(s`,a`)\n",
    "        ## first get the Q(s,a) from the policy network\n",
    "        ## then gather the values corresponds to target actions from the memory\n",
    "        action_q_value = self.policy_net(state) \\\n",
    "                                            .gather(1, action.to(device)).squeeze(1)\n",
    "        #print(action_q_value)\n",
    "\n",
    "        ## Now find the Q(s`, a`)\n",
    "        ## for this first we need to filter the done states\n",
    "        non_final_mask = torch.tensor(tuple(map(lambda s: s is not None, new_state)))\n",
    "        non_final_new_states = new_state[non_final_mask]\n",
    "        ## now we use the target net and non final next state batch to get Q(s`, a`)\n",
    "        ## detach the tensor from the graph to prevent gradients flowing to the\n",
    "        ## target network\n",
    "        next_state_q_value = torch.zeros(BATCH_SIZE, dtype=torch.float, device=device)\n",
    "        next_state_q_value[non_final_mask] = tgt_net(non_final_new_states) \\\n",
    "                                                        .max(1)[0].detach()\n",
    "        ## now find the Q(s,a)_target using bellman equation\n",
    "        expected_q_value = reward + GAMMA * next_state_q_value\n",
    "        \n",
    "        ## compute the MSE loss\n",
    "        loss = nn.SmoothL1Loss()(action_q_value, expected_q_value)\n",
    "        return loss\n",
    "\n",
    "    def optimize(self, optimizer, batch, tgt_net):\n",
    "        ## init the optimizer\n",
    "        ## we do this to prevent the gradients of one minibactch flowing\n",
    "        ## to the next minibatch (pytorch accumilates gradients within a minibatch\n",
    "        ## when you call loss.backward())\n",
    "        optimizer.zero_grad()\n",
    "        ## compute the loss\n",
    "        loss = self.compute_loss(tgt_net, batch)\n",
    "        ## compute gradients\n",
    "        loss.backward()\n",
    "        ## update parameters\n",
    "        optimizer.step()\n",
    "\n",
    "        ## return loss for monitoring\n",
    "        return loss.item()"
   ]
  },
  {
   "cell_type": "code",
   "execution_count": 3,
   "metadata": {},
   "outputs": [],
   "source": [
    "## GLOBALS\n",
    "STACK_SIZE = 5\n",
    "NUM_EPISODES = 100\n",
    "\n",
    "MEAN_REWARD_BOUND = 50.0\n",
    "\n",
    "GAMMA = 0.99\n",
    "BATCH_SIZE = 32\n",
    "REPLAY_SIZE = 10000\n",
    "LEARNING_RATE = 1e-4\n",
    "SYNC_TARGET_FRAMES = 500 #150#1000\n",
    "REPLAY_START_SIZE = BATCH_SIZE\n",
    "\n",
    "EPSILON_DECAY_LAST_FRAME = 10**4#10**5\n",
    "EPSILON_START = 0.9 #1.0\n",
    "EPSILON_FINAL = 0.1\n",
    "\n",
    "MODEL_PATH = './models/kuka_2'\n",
    "MODEL_NAME = 'kuka_policy_net.pt'\n",
    "device = 'cuda'"
   ]
  },
  {
   "cell_type": "code",
   "execution_count": 11,
   "metadata": {},
   "outputs": [],
   "source": [
    "## init a replay buffer\n",
    "memory_buffer = ReplayBuffer(REPLAY_SIZE)\n",
    "\n",
    "## init the DQN networks (both policy and target nets)\n",
    "input_shape = [STACK_SIZE, 48, 48]\n",
    "#print(input_shape)\n",
    "policy_net = dqn_model.DQN(input_shape, env.action_space.n).to(device)\n",
    "target_net = dqn_model.DQN(input_shape, env.action_space.n).to(device)\n",
    "## copy the policy net weights to target net\n",
    "target_net.load_state_dict(policy_net.state_dict())\n",
    "\n",
    "## define the optimizer\n",
    "optimizer = optim.Adam(policy_net.parameters(), lr=LEARNING_RATE)\n",
    "\n",
    "## init an agent\n",
    "agent_dqn = Agent(policy_net, env)\n",
    "\n",
    "## reward vars\n",
    "ten_rewards = 0.0 ## reward for 10 episodes\n",
    "total_rewards = list() ## total \n",
    "best_mean_reward = None\n",
    "update_counter = 0"
   ]
  },
  {
   "cell_type": "code",
   "execution_count": 4,
   "metadata": {},
   "outputs": [],
   "source": [
    "## convert a RGB image to gray and min max normalize them\n",
    "def convert_to_gray(color_state):\n",
    "    return cv2.cvtColor(color_state, cv2.COLOR_BGR2GRAY) / 255.0"
   ]
  },
  {
   "cell_type": "code",
   "execution_count": 11,
   "metadata": {},
   "outputs": [
    {
     "output_type": "stream",
     "name": "stdout",
     "text": [
      "Best mean reward: 0.0\n",
      "Best mean reward: 20.0\n",
      "Best mean reward: 25.0\n",
      "Best mean reward: 33.33333333333333\n",
      "Best mean reward: 34.0\n",
      "Best mean reward: 35.0\n",
      "Best mean reward: 36.0\n",
      "Best mean reward: 37.0\n",
      "Best mean reward: 38.0\n",
      "Best mean reward: 39.0\n",
      "Best mean reward: 40.0\n",
      "Best mean reward: 41.0\n",
      "Best mean reward: 42.0\n",
      "Best mean reward: 43.0\n",
      "Best mean reward: 44.0\n",
      "Best mean reward: 45.0\n",
      "Best mean reward: 46.0\n",
      "Best mean reward: 47.0\n",
      "Best mean reward: 48.0\n",
      "Best mean reward: 49.0\n",
      "Best mean reward: 50.0\n",
      "Best mean reward: 51.0\n",
      "Environment solved in 2241 episodes!\tAverage Score: 51.00\n"
     ]
    }
   ],
   "source": [
    "while True:\n",
    "    update_counter += 1\n",
    "    ## get the training loss for an episode\n",
    "    episode_loss = list()\n",
    "    current_state = env.reset()\n",
    "    ## convert to gray scale\n",
    "    current_state = convert_to_gray(current_state)\n",
    "    ## deq the initial frames as a stak defined by STACK_SIZE\n",
    "    current_state_stack = deque([current_state] * STACK_SIZE, maxlen=STACK_SIZE)\n",
    "    \n",
    "    while True:\n",
    "        ## Do the epsilon decay\n",
    "        epsilon = max(EPSILON_FINAL, EPSILON_START - update_counter / EPSILON_DECAY_LAST_FRAME)\n",
    "        current_state_tensor = torch.FloatTensor(current_state_stack)\n",
    "        ## let the agent take an action\n",
    "        action, done_reward, reward, _, is_done = agent_dqn.play_step(\n",
    "                                                            current_state_tensor, epsilon)\n",
    "        new_state = get_observation()\n",
    "        if not is_done:\n",
    "            ## make new state stack from the current states\n",
    "            new_state_stack = current_state_stack\n",
    "            ## add the new state as the last element in the stack\n",
    "            ## so the stack now pops the oldest element\n",
    "            new_state_stack.append(convert_to_gray(new_state))\n",
    "            ## update the buffer\n",
    "            memory_buffer.push((current_state_stack, action, reward, new_state_stack))\n",
    "        else:\n",
    "            new_state_stack = None\n",
    "        \n",
    "        if done_reward is not None:\n",
    "            total_rewards.append(done_reward)\n",
    "            #print(reward)\n",
    "            mean_reward = np.mean(total_rewards[-100:]) * 100.0\n",
    "            num_played_games = len(total_rewards)\n",
    "            if best_mean_reward is None or best_mean_reward < mean_reward:\n",
    "                ## update the best mean reward\n",
    "                best_mean_reward = mean_reward\n",
    "                if best_mean_reward is not None:\n",
    "                    print(\"Best mean reward: {}\".format(best_mean_reward))\n",
    "                    SAVE_PATH = os.path.join(MODEL_PATH, str(num_played_games)+'_'+MODEL_NAME)  \n",
    "                    torch.save(policy_net.state_dict(), SAVE_PATH)\n",
    "            break\n",
    "\n",
    "        ## make the current state the new state\n",
    "        current_state_stack = new_state_stack\n",
    "        ## check if we have enough data in the memory buffer\n",
    "        if len(memory_buffer) < REPLAY_START_SIZE:\n",
    "            continue\n",
    "        \n",
    "        ## if there are enough data we sample a batch\n",
    "        train_batch = memory_buffer.sample(BATCH_SIZE)\n",
    "        loss = agent_dqn.optimize(optimizer, train_batch, target_net)\n",
    "        episode_loss.append(loss)\n",
    "\n",
    "        ## We update the target net at each SYNC_TARGET_FRAMES\n",
    "        if update_counter % SYNC_TARGET_FRAMES == 0:\n",
    "            target_net.load_state_dict(policy_net.state_dict())\n",
    "        \n",
    "    if best_mean_reward>100:\n",
    "        print('Environment solved in {:d} episodes!\\tAverage Score: {:.2f}'.format(\n",
    "                                                update_counter+1, best_mean_reward))\n",
    "        break"
   ]
  },
  {
   "cell_type": "code",
   "execution_count": 5,
   "metadata": {},
   "outputs": [],
   "source": [
    "## create the environment and connect to the physics server\n",
    "## put render to True for visualization\n",
    "env = KukaDiverseObjectEnv(renders=True, isDiscrete=True, removeHeightHack=False, maxSteps=20)\n",
    "env.cid = p.connect(p.DIRECT)"
   ]
  },
  {
   "cell_type": "code",
   "execution_count": 7,
   "metadata": {},
   "outputs": [
    {
     "output_type": "error",
     "ename": "RuntimeError",
     "evalue": "Error(s) in loading state_dict for DQN:\n\tMissing key(s) in state_dict: \"conv.0.weight\", \"conv.0.bias\", \"conv.2.weight\", \"conv.2.bias\", \"conv.4.weight\", \"conv.4.bias\", \"fc.0.weight\", \"fc.0.bias\", \"fc.2.weight\", \"fc.2.bias\". \n\tUnexpected key(s) in state_dict: \"policy_net_state_dict\", \"target_net_state_dict\", \"optimizer_policy_net_state_dict\". ",
     "traceback": [
      "\u001b[0;31m---------------------------------------------------------------------------\u001b[0m",
      "\u001b[0;31mRuntimeError\u001b[0m                              Traceback (most recent call last)",
      "\u001b[0;32m<ipython-input-7-f803dd0a6246>\u001b[0m in \u001b[0;36m<module>\u001b[0;34m\u001b[0m\n\u001b[1;32m      4\u001b[0m \u001b[0;31m## load the trained model\u001b[0m\u001b[0;34m\u001b[0m\u001b[0;34m\u001b[0m\u001b[0;34m\u001b[0m\u001b[0m\n\u001b[1;32m      5\u001b[0m \u001b[0;31m#print(torch.load(LOAD_PATH))\u001b[0m\u001b[0;34m\u001b[0m\u001b[0;34m\u001b[0m\u001b[0;34m\u001b[0m\u001b[0m\n\u001b[0;32m----> 6\u001b[0;31m \u001b[0mpolicy_net\u001b[0m\u001b[0;34m.\u001b[0m\u001b[0mload_state_dict\u001b[0m\u001b[0;34m(\u001b[0m\u001b[0mtorch\u001b[0m\u001b[0;34m.\u001b[0m\u001b[0mload\u001b[0m\u001b[0;34m(\u001b[0m\u001b[0mLOAD_PATH\u001b[0m\u001b[0;34m)\u001b[0m\u001b[0;34m)\u001b[0m\u001b[0;34m\u001b[0m\u001b[0;34m\u001b[0m\u001b[0m\n\u001b[0m\u001b[1;32m      7\u001b[0m \u001b[0;32mfor\u001b[0m \u001b[0me\u001b[0m \u001b[0;32min\u001b[0m \u001b[0mrange\u001b[0m\u001b[0;34m(\u001b[0m\u001b[0;36m10\u001b[0m\u001b[0;34m)\u001b[0m\u001b[0;34m:\u001b[0m\u001b[0;34m\u001b[0m\u001b[0;34m\u001b[0m\u001b[0m\n\u001b[1;32m      8\u001b[0m     \u001b[0;31m## get the initial state\u001b[0m\u001b[0;34m\u001b[0m\u001b[0;34m\u001b[0m\u001b[0;34m\u001b[0m\u001b[0m\n",
      "\u001b[0;32m~/my_env/robot_lab_1/lib/python3.8/site-packages/torch/nn/modules/module.py\u001b[0m in \u001b[0;36mload_state_dict\u001b[0;34m(self, state_dict, strict)\u001b[0m\n\u001b[1;32m   1049\u001b[0m \u001b[0;34m\u001b[0m\u001b[0m\n\u001b[1;32m   1050\u001b[0m         \u001b[0;32mif\u001b[0m \u001b[0mlen\u001b[0m\u001b[0;34m(\u001b[0m\u001b[0merror_msgs\u001b[0m\u001b[0;34m)\u001b[0m \u001b[0;34m>\u001b[0m \u001b[0;36m0\u001b[0m\u001b[0;34m:\u001b[0m\u001b[0;34m\u001b[0m\u001b[0;34m\u001b[0m\u001b[0m\n\u001b[0;32m-> 1051\u001b[0;31m             raise RuntimeError('Error(s) in loading state_dict for {}:\\n\\t{}'.format(\n\u001b[0m\u001b[1;32m   1052\u001b[0m                                self.__class__.__name__, \"\\n\\t\".join(error_msgs)))\n\u001b[1;32m   1053\u001b[0m         \u001b[0;32mreturn\u001b[0m \u001b[0m_IncompatibleKeys\u001b[0m\u001b[0;34m(\u001b[0m\u001b[0mmissing_keys\u001b[0m\u001b[0;34m,\u001b[0m \u001b[0munexpected_keys\u001b[0m\u001b[0;34m)\u001b[0m\u001b[0;34m\u001b[0m\u001b[0;34m\u001b[0m\u001b[0m\n",
      "\u001b[0;31mRuntimeError\u001b[0m: Error(s) in loading state_dict for DQN:\n\tMissing key(s) in state_dict: \"conv.0.weight\", \"conv.0.bias\", \"conv.2.weight\", \"conv.2.bias\", \"conv.4.weight\", \"conv.4.bias\", \"fc.0.weight\", \"fc.0.bias\", \"fc.2.weight\", \"fc.2.bias\". \n\tUnexpected key(s) in state_dict: \"policy_net_state_dict\", \"target_net_state_dict\", \"optimizer_policy_net_state_dict\". "
     ]
    }
   ],
   "source": [
    "LOAD_PATH = './models/kuka_2/2240_kuka_policy_net.pt'\n",
    "input_shape = [STACK_SIZE, 48, 48]\n",
    "policy_net = dqn_model.DQN(input_shape, env.action_space.n).eval()\n",
    "## load the trained model\n",
    "#print(torch.load(LOAD_PATH))\n",
    "policy_net.load_state_dict(torch.load(LOAD_PATH))\n",
    "for e in range(10):\n",
    "    ## get the initial state\n",
    "    state = env.reset()\n",
    "\n",
    "    ## make a state stack\n",
    "    state_stack = deque([convert_to_gray(state)]*STACK_SIZE, maxlen=STACK_SIZE)\n",
    "    state = torch.FloatTensor(state).unsqueeze(0)\n",
    "\n",
    "    total_reward = 0.0\n",
    "    action_count = Counter()\n",
    "    ## play the game\n",
    "    #for i in range(10):\n",
    "    while True:\n",
    "        ## make a tensor out of statestack\n",
    "        state_stack_tensor = torch.FloatTensor(state_stack).unsqueeze(0)\n",
    "        #print(state_stack_tensor.size())\n",
    "        ## get the actions from the policy net\n",
    "        action = policy_net(state_stack_tensor).max(1)[1].item()\n",
    "        #print(action)\n",
    "        ## perform the action\n",
    "        new_state, reward, is_done, _ = env.step(action)\n",
    "        #print(a.shape)\n",
    "        #new_state = get_observation()\n",
    "        ## assign the new state as the current state for the next iteration\n",
    "        #state = torch.FloatTensor(new_state).unsqueeze(0)\n",
    "        state_stack.append(convert_to_gray(new_state))\n",
    "        action_count[action] += 1\n",
    "\n",
    "        if is_done:\n",
    "            total_reward = reward\n",
    "            break\n",
    "\n",
    "    print(\"Total Reward: {}\".format(total_reward))\n",
    "    print(\"Number of actions: {}\".format(action_count))"
   ]
  },
  {
   "cell_type": "code",
   "execution_count": null,
   "metadata": {},
   "outputs": [],
   "source": []
  }
 ]
}