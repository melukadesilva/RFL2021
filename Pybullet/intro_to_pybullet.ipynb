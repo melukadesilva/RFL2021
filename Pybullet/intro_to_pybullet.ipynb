{
 "metadata": {
  "language_info": {
   "codemirror_mode": {
    "name": "ipython",
    "version": 3
   },
   "file_extension": ".py",
   "mimetype": "text/x-python",
   "name": "python",
   "nbconvert_exporter": "python",
   "pygments_lexer": "ipython3",
   "version": "3.8.5-final"
  },
  "orig_nbformat": 2,
  "kernelspec": {
   "name": "python3",
   "display_name": "Python 3.8.5 64-bit",
   "metadata": {
    "interpreter": {
     "hash": "1de01a1b2b639b2ab9bc9c9a713ded5cb1ecc68bccd08a4a9bdbc4634151189f"
    }
   }
  }
 },
 "nbformat": 4,
 "nbformat_minor": 2,
 "cells": [
  {
   "cell_type": "code",
   "execution_count": 1,
   "metadata": {},
   "outputs": [],
   "source": [
    "## https://www.etedal.net/2020/04/pybullet-panda.html"
   ]
  },
  {
   "cell_type": "code",
   "execution_count": 2,
   "metadata": {},
   "outputs": [],
   "source": [
    "import os\n",
    "import pybullet as p\n",
    "import pybullet_data\n",
    "\n",
    "import math\n",
    "import time"
   ]
  },
  {
   "cell_type": "code",
   "execution_count": 3,
   "metadata": {},
   "outputs": [
    {
     "output_type": "stream",
     "name": "stdout",
     "text": [
      "/home/akaaku13m/my_env/robot_lab_1/lib/python3.8/site-packages/pybullet_data\n"
     ]
    }
   ],
   "source": [
    "p.connect(p.GUI) ##connection to the pyhsics server\n",
    "urdfRootPath=pybullet_data.getDataPath() ## get model path\n",
    "print(urdfRootPath)\n",
    "kukaId = p.loadURDF(os.path.join(urdfRootPath, \"kuka_iiwa/model.urdf\"),useFixedBase=True) ## load the model"
   ]
  },
  {
   "cell_type": "code",
   "execution_count": 4,
   "metadata": {},
   "outputs": [],
   "source": [
    "## load random object and place them in given basepositions\n",
    "tableUid = p.loadURDF(os.path.join(urdfRootPath, \"table/table.urdf\"),basePosition=[0.5,0,-0.65])\n",
    "\n",
    "trayUid = p.loadURDF(os.path.join(urdfRootPath, \"tray/traybox.urdf\"),basePosition=[0.65,0,0])\n",
    "\n",
    "objectUid = p.loadURDF(os.path.join(urdfRootPath, \"random_urdfs/000/000.urdf\"), basePosition=[0.7,0,0.1])\n"
   ]
  },
  {
   "cell_type": "code",
   "execution_count": 5,
   "metadata": {},
   "outputs": [],
   "source": [
    "p.setGravity(0,0,-10) ## set gravity"
   ]
  },
  {
   "cell_type": "code",
   "execution_count": 6,
   "metadata": {},
   "outputs": [
    {
     "output_type": "stream",
     "name": "stdout",
     "text": [
      "7\n"
     ]
    }
   ],
   "source": [
    "num_joint = p.getNumJoints(kukaId) ## get the number of joints in the robot\n",
    "print(num_joint)\n",
    "kukaEndEffectorIndex = 6 ## index of the end effector\n",
    "target_pos = (0.7315839331382419, 0.03964238170395609, 0.6285314548709545)\n",
    " ## cartesian position of the\n",
    "## end effector\n"
   ]
  },
  {
   "cell_type": "code",
   "execution_count": 7,
   "metadata": {
    "tags": []
   },
   "outputs": [
    {
     "output_type": "stream",
     "name": "stdout",
     "text": [
      "(1.481887826451083e-13, 2.4091388606262143e-12, 1.2810000000000001)\n",
      "(1.481887826451083e-13, 2.4091388606262143e-12, 1.2810000000000001)\n",
      "(-1.1581752112021859e-06, -5.6061475034170465e-09, 1.280999999998565)\n",
      "(-0.009409505550762911, -8.650101222449269e-05, 1.2779142097428193)\n",
      "(-0.012709843372530255, -0.00015764302719810624, 1.270674523119715)\n",
      "(0.07250066721829555, 0.0012215018118198742, 1.2712744320938587)\n",
      "(0.14957509042464887, 0.0029821467229551395, 1.2643778902183298)\n",
      "(0.21949209020753005, 0.004995984933016755, 1.2519002143710853)\n",
      "(0.2813911721258638, 0.007122970112670982, 1.2356120169878937)\n",
      "(0.33593407243875334, 0.009276389700770198, 1.216933042902652)\n",
      "(0.3838391672311414, 0.011394520672335285, 1.1969424145918581)\n",
      "(0.42582554154884344, 0.01343533619694337, 1.1764436994452314)\n",
      "(0.4625793977364368, 0.015371877562288163, 1.1560219147049187)\n",
      "(0.4947356161303187, 0.017188416497839032, 1.1360915323277)\n",
      "(0.5228693251522755, 0.01887738905558326, 1.116935806573629)\n",
      "(0.54749384287125, 0.020437013383628144, 1.098738351726717)\n",
      "(0.5690624812947577, 0.021869479503661724, 1.081608111118004)\n",
      "(0.5879725254852948, 0.023179599413567533, 1.065598860526509)\n",
      "(0.604570281402514, 0.02437381768538806, 1.0507242873783884)\n",
      "(0.6191564899906163, 0.025459498682261664, 1.0369695445637883)\n",
      "(0.6319916795499084, 0.026444422616915188, 1.024300028306849)\n",
      "(0.643301211449218, 0.02733643712180152, 1.0126679904499714)\n",
      "(0.6532798935659747, 0.028143223176969285, 1.002017474000809)\n",
      "(0.6620961115566169, 0.028872144112388316, 0.9922879586916467)\n",
      "(0.6698954743770195, 0.02953015419469858, 0.9834170197149799)\n",
      "(0.6768039973031502, 0.03012374934451761, 0.9753422355988615)\n",
      "(0.6829310067240997, 0.03065896544307579, 0.9680022010854809)\n",
      "(0.6883710369644713, 0.031141318510690318, 0.9613384794827151)\n",
      "(0.6932063971975384, 0.0315758834297176, 0.9552950871820608)\n",
      "(0.697508891625608, 0.03196731357569241, 0.9498189960184097)\n",
      "(0.7013407621274688, 0.03231979480147693, 0.944861106333773)\n",
      "(0.7047565542111873, 0.0326371509665436, 0.9403754614857338)\n",
      "(0.7078041568892343, 0.032922870095782424, 0.9363192568342209)\n",
      "(0.7105251944547257, 0.033180057713336535, 0.9326535583336445)\n",
      "(0.712956393904198, 0.0334115455901668, 0.9293422998436451)\n",
      "(0.7151302271015866, 0.033619915756633666, 0.9263521529643243)\n",
      "(0.7170749459122525, 0.03380744415529108, 0.9236532093301318)\n",
      "(0.7188156612420374, 0.03397621014569146, 0.921217881102019)\n",
      "(0.7203745627713478, 0.034128087543097166, 0.9190210357919745)\n",
      "(0.7217712866990653, 0.0342647642990198, 0.9170398118896206)\n",
      "(0.7230233920784631, 0.034387785827059, 0.9152531762993764)\n",
      "(0.7241461327541426, 0.034498491714425844, 0.9136425845234641)\n",
      "(0.7251532264081555, 0.03459811451485631, 0.912190944129506)\n",
      "(0.7260568725203558, 0.034687763723222055, 0.9108827712669763)\n",
      "(0.7268679312663334, 0.03476843790958207, 0.9097040501629129)\n",
      "(0.7275962419333927, 0.03484106241952986, 0.9086418260268311)\n",
      "(0.7282502499190889, 0.03490641569402525, 0.9076849497015302)\n",
      "(0.7288376615323213, 0.034965225865958044, 0.9068230590463987)\n",
      "(0.7293653609250471, 0.035018148231244016, 0.9060467937096661)\n",
      "(0.7298395015662409, 0.03506577244545051, 0.9053477024000217)\n",
      "(0.7302655872661151, 0.03510862909367113, 0.9047181572403369)\n",
      "(0.7306485436046759, 0.03514719560602313, 0.9041512756546716)\n",
      "(0.7309927810021554, 0.035181901582575885, 0.903640849240916)\n",
      "(0.7313022504948195, 0.03521313358595496, 0.9031812790928305)\n",
      "(0.7315806541557076, 0.03524126667111042, 0.9027672365291886)\n",
      "(0.7318309867679318, 0.03526658347444611, 0.9023944838123543)\n",
      "(0.7320560975331438, 0.03528936588895626, 0.9020589167961817)\n",
      "(0.732258543416562, 0.035309867685819035, 0.9017568358298796)\n",
      "(0.7324406191916325, 0.03532831721615495, 0.9014849074252125)\n",
      "(0.7326043848781773, 0.03534491995838222, 0.9012401283908839)\n",
      "(0.732751690209215, 0.03535986081057364, 0.9010197934034258)\n",
      "(0.7328841964641906, 0.03537330615290085, 0.9008214657040693)\n",
      "(0.7330033959672333, 0.035385405703240225, 0.9006429506317117)\n",
      "(0.7331106295125519, 0.035396294186686154, 0.9004822717266435)\n",
      "(0.7332071019474841, 0.03540609283765772, 0.9003376491626905)\n",
      "(0.7332938961162669, 0.03541491075139625, 0.9002074802867996)\n",
      "(0.7333719853437413, 0.03542284609997174, 0.9000903220648899)\n",
      "(0.7334422446174053, 0.03542998722639473, 0.8999848752510782)\n",
      "(0.7335054606080164, 0.03543641362906537, 0.8998899701141451)\n"
     ]
    }
   ],
   "source": [
    "current_state = 0\n",
    "while True:\n",
    "    ## get the cartesian position of end effector\n",
    "    ##p.getLinkState(kukaId, kukaEndEffectorIndex)[0]##\n",
    "    print(p.getLinkState(kukaId, kukaEndEffectorIndex)[0])\n",
    "    \n",
    "    ## From the cartesian positions get the joint positions so we can use a position controller\n",
    "    ## to move the end effector\n",
    "    joint_poistions = p.calculateInverseKinematics(kukaId, kukaEndEffectorIndex, target_pos)\n",
    "    ## control the 7 joints to reach the desired position\n",
    "    '''\n",
    "    for i in range(num_joint):\n",
    "        p.setJointMotorControl2(kukaId, i, \n",
    "                        p.POSITION_CONTROL,joint_poistions[i])\n",
    "    '''\n",
    "    if current_state == 0:\n",
    "        p.setJointMotorControl2(kukaId, 0, \n",
    "                        p.POSITION_CONTROL,joint_poistions[0])\n",
    "    if current_state == 1:\n",
    "        p.setJointMotorControl2(kukaId, 1, \n",
    "                        p.POSITION_CONTROL,joint_poistions[1])\n",
    "    if current_state == 2:\n",
    "        p.setJointMotorControl2(kukaId, 2, \n",
    "                        p.POSITION_CONTROL,joint_poistions[2])\n",
    "    if current_state == 3:\n",
    "        p.setJointMotorControl2(kukaId, 3, \n",
    "                        p.POSITION_CONTROL,joint_poistions[3])\n",
    "    if current_state == 4:\n",
    "        p.setJointMotorControl2(kukaId, 4, \n",
    "                        p.POSITION_CONTROL,joint_poistions[4])\n",
    "    if current_state == 5:\n",
    "        p.setJointMotorControl2(kukaId, 5, \n",
    "                        p.POSITION_CONTROL,joint_poistions[5])\n",
    "    if current_state == 6:\n",
    "        p.setJointMotorControl2(kukaId, 6, \n",
    "                        p.POSITION_CONTROL,joint_poistions[6])\n",
    "    current_state += 1\n",
    "    #print(len(joint_poistions))\n",
    "    ## perform a single forward dynamic step in the simulation world\n",
    "    p.stepSimulation() ## execute one step of the simulation\n",
    "    ## time step in the simulation (simulation frequency)\n",
    "    time.sleep(1./10.) ## \n",
    "p.disconnect()"
   ]
  }
 ]
}